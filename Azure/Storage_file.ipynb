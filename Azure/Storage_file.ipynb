{
  "nbformat": 4,
  "nbformat_minor": 0,
  "metadata": {
    "colab": {
      "private_outputs": true,
      "provenance": [],
      "authorship_tag": "ABX9TyMuQnPD3HBYvsd1Fde5m0SE",
      "include_colab_link": true
    },
    "kernelspec": {
      "name": "python3",
      "display_name": "Python 3"
    },
    "language_info": {
      "name": "python"
    }
  },
  "cells": [
    {
      "cell_type": "markdown",
      "metadata": {
        "id": "view-in-github",
        "colab_type": "text"
      },
      "source": [
        "<a href=\"https://colab.research.google.com/github/jh868/Python/blob/main/Storage_file.ipynb\" target=\"_parent\"><img src=\"https://colab.research.google.com/assets/colab-badge.svg\" alt=\"Open In Colab\"/></a>"
      ]
    },
    {
      "cell_type": "code",
      "execution_count": null,
      "metadata": {
        "id": "OvPYxe5bJRBj"
      },
      "outputs": [],
      "source": [
        "!pip install azure-storage-file"
      ]
    },
    {
      "cell_type": "code",
      "source": [
        "from azure.storage.file import FileService\n",
        "file_service = file_service = FileService(account_name='labuser58storage2', \n",
        "                           account_key='usAUfVR7XPwFAYWR2TShV1UmoQSAHYCvy3jf+kKjCflTaLEcDWRtUVPu23A5z/z5rqQYmlG/tVi7+AStgZk/aQ==')\n",
        "# 키는 필요할때 마다 받아서 쓰는 방식으로 바꿀것\n"
      ],
      "metadata": {
        "id": "A5Qc3UH-Jkt_"
      },
      "execution_count": null,
      "outputs": []
    },
    {
      "cell_type": "code",
      "source": [
        "file_service.create_share('myshare')"
      ],
      "metadata": {
        "id": "lxYJjH9OM5Z7"
      },
      "execution_count": null,
      "outputs": []
    },
    {
      "cell_type": "code",
      "source": [
        "file_service.create_directory('myshare','sampledir')"
      ],
      "metadata": {
        "id": "mUriTNyaNHRA"
      },
      "execution_count": null,
      "outputs": []
    },
    {
      "cell_type": "code",
      "source": [
        "from azure.storage.file import ContentSettings\n",
        "\n",
        "file_service.create_file_from_path('myshare',\n",
        "                                   None,\n",
        "                                   'myfile',\n",
        "                                   'winter.jpg',\n",
        "                                   content_settings=ContentSettings(content_type='image/jpg'))"
      ],
      "metadata": {
        "id": "t7NvuAQDNmXC"
      },
      "execution_count": null,
      "outputs": []
    },
    {
      "cell_type": "code",
      "source": [
        "generator = file_service.list_directories_and_files('myshare')\n",
        "for file_or_dir in generator:\n",
        "  print(file_or_dir.name)"
      ],
      "metadata": {
        "id": "Fwe__8nqO5iF"
      },
      "execution_count": null,
      "outputs": []
    },
    {
      "cell_type": "code",
      "source": [
        "# 파일경로, 하위 경로, 파일이름, 저장할 이름\n",
        "file_service.get_file_to_path('myshare',None,'myfile','out-winter.jpg')"
      ],
      "metadata": {
        "id": "Y_4hobW6Pa7K"
      },
      "execution_count": null,
      "outputs": []
    },
    {
      "cell_type": "code",
      "source": [],
      "metadata": {
        "id": "UHpIMrq_QDLw"
      },
      "execution_count": null,
      "outputs": []
    }
  ]
}
