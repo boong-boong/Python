{
  "nbformat": 4,
  "nbformat_minor": 0,
  "metadata": {
    "colab": {
      "private_outputs": true,
      "provenance": [],
      "authorship_tag": "ABX9TyOSzwhIy0EVTObJd0CQjVOd",
      "include_colab_link": true
    },
    "kernelspec": {
      "name": "python3",
      "display_name": "Python 3"
    },
    "language_info": {
      "name": "python"
    }
  },
  "cells": [
    {
      "cell_type": "markdown",
      "metadata": {
        "id": "view-in-github",
        "colab_type": "text"
      },
      "source": [
        "<a href=\"https://colab.research.google.com/github/jh868/Python/blob/main/Azure_eventhub.ipynb\" target=\"_parent\"><img src=\"https://colab.research.google.com/assets/colab-badge.svg\" alt=\"Open In Colab\"/></a>"
      ]
    },
    {
      "cell_type": "code",
      "execution_count": null,
      "metadata": {
        "id": "ofZrRrqX_J_B"
      },
      "outputs": [],
      "source": [
        "!pip install azure-eventhub"
      ]
    },
    {
      "cell_type": "code",
      "source": [
        "from azure.eventhub.aio import EventHubProducerClient\n",
        "from azure.eventhub import EventData"
      ],
      "metadata": {
        "id": "-YHrxQ-WA8lL"
      },
      "execution_count": null,
      "outputs": []
    },
    {
      "cell_type": "code",
      "source": [
        "eventhub = EventHubProducerClient.from_connection_string(conn_str='Endpoint=sb://labuser58eventhub.servicebus.windows.net/;SharedAccessKeyName=me;SharedAccessKey=HyowLlzAC7SIor3OSdHT2GOMgm5JoycBIYwl4HEoWz4=;EntityPath=event1')"
      ],
      "metadata": {
        "id": "iTV5TnVrA_hq"
      },
      "execution_count": null,
      "outputs": []
    },
    {
      "cell_type": "code",
      "source": [
        "import time\n",
        "from datetime import datetime\n",
        "\n",
        "i=0\n",
        "while(1):\n",
        "  message = 'time: ' + str(datetime.now())\n",
        "  eventhub.send_event(EventData(message))\n",
        "\n",
        "  i+=1\n",
        "  if i%10==0:\n",
        "    print('message {} sending...'.format(i))\n",
        "\n",
        "  time.sleep(2)"
      ],
      "metadata": {
        "id": "sQuXUw_pBKLE"
      },
      "execution_count": null,
      "outputs": []
    },
    {
      "cell_type": "code",
      "source": [],
      "metadata": {
        "id": "aJ4FJRdJJU0k"
      },
      "execution_count": null,
      "outputs": []
    }
  ]
}