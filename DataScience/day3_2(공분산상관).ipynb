{
  "nbformat": 4,
  "nbformat_minor": 0,
  "metadata": {
    "colab": {
      "private_outputs": true,
      "provenance": [],
      "authorship_tag": "ABX9TyMc1MVoA/5maLJIJ+PrzMu3",
      "include_colab_link": true
    },
    "kernelspec": {
      "name": "python3",
      "display_name": "Python 3"
    },
    "language_info": {
      "name": "python"
    }
  },
  "cells": [
    {
      "cell_type": "markdown",
      "metadata": {
        "id": "view-in-github",
        "colab_type": "text"
      },
      "source": [
        "<a href=\"https://colab.research.google.com/github/jh868/Python/blob/main/DataScience/day3_2(%EA%B3%B5%EB%B6%84%EC%82%B0%EC%83%81%EA%B4%80).ipynb\" target=\"_parent\"><img src=\"https://colab.research.google.com/assets/colab-badge.svg\" alt=\"Open In Colab\"/></a>"
      ]
    },
    {
      "cell_type": "markdown",
      "source": [
        "# 공분산과 상관계수"
      ],
      "metadata": {
        "id": "EghDJhrSV31_"
      }
    },
    {
      "cell_type": "markdown",
      "source": [
        "## 표본공분산(Sample covariance)\n",
        "\n",
        "$${s_{xy}}=\\frac{1}{N}\\Sigma({x_i}-\\hat{x})({y_i}-\\hat{y})$$"
      ],
      "metadata": {
        "id": "r10WtRmtWCgH"
      }
    },
    {
      "cell_type": "markdown",
      "source": [
        "## 표본상관계수(Sample correlation coefficient)\n",
        "\n",
        "공분산에 각각의 표준편차 값으로 나눈 값   \n",
        "각각의 표준편차를 나눠 주는 이유 자료 분포의 방향성만 분리해서 보기 위함과 표준화를 하기 위함\n",
        "\n",
        "$${r_xy} = \\frac{{s_xy}}{({s_x^2}{x_y^2})^{1/2}}$$"
      ],
      "metadata": {
        "id": "XKLUpV0fWFyf"
      }
    },
    {
      "cell_type": "code",
      "source": [
        "!pip install scikit-learn"
      ],
      "metadata": {
        "id": "NlTlAHbGWJR5"
      },
      "execution_count": null,
      "outputs": []
    },
    {
      "cell_type": "code",
      "source": [
        "!pip install koreanize-matplotlib"
      ],
      "metadata": {
        "id": "s1KQxZsiWLrN"
      },
      "execution_count": null,
      "outputs": []
    },
    {
      "cell_type": "code",
      "source": [
        "from sklearn.datasets import load_iris\n",
        "import scipy as sp\n",
        "import numpy as np\n",
        "import matplotlib.pyplot as plt\n",
        "import koreanize_matplotlib\n",
        "import statsmodels.api as sm\n",
        "import seaborn as sns"
      ],
      "metadata": {
        "id": "rnTMOTXSWNX0"
      },
      "execution_count": null,
      "outputs": []
    },
    {
      "cell_type": "code",
      "source": [
        "X = load_iris()\n",
        "load_iris().keys()"
      ],
      "metadata": {
        "id": "OMSP4U7mWQTW"
      },
      "execution_count": null,
      "outputs": []
    },
    {
      "cell_type": "code",
      "source": [
        "# X.data는 iris의 데이터 밸류값이 정리되어 있음,\n",
        "# X.feature_names 에 각각의 컬럼 이름이 정의되 있음\n",
        "# X.feature의 순서에 따라서 해당되는 데이터를 가져오는 코드\n",
        "sepal_length = X.data[:,0]\n",
        "sepal_width = X.data[:,1]\n",
        "petal_length = X.data[:,2]\n",
        "petal_width = X.data[:,3]\n",
        "sp.stats.pearsonr(sepal_length, petal_length)[0]"
      ],
      "metadata": {
        "id": "UwiwAvZ0WSEY"
      },
      "execution_count": null,
      "outputs": []
    },
    {
      "cell_type": "code",
      "source": [
        "np_array = np.random.rand(5,7)\n",
        "print(np_array)\n",
        "np_array[:, 0]"
      ],
      "metadata": {
        "id": "1FmpP_ikWWEB"
      },
      "execution_count": null,
      "outputs": []
    },
    {
      "cell_type": "markdown",
      "source": [
        "## 상관계수 Scatter Plot"
      ],
      "metadata": {
        "id": "NIUdEghNWYAf"
      }
    },
    {
      "cell_type": "markdown",
      "source": [
        "피어슨 상관계수의 경우 선형적인 관계만을 측정하기 때문에 선형적이 않으면서 관계가 있는 데이터의 경우에 피어슨 상관계수는 0"
      ],
      "metadata": {
        "id": "8DAKqmPuWblx"
      }
    },
    {
      "cell_type": "code",
      "source": [
        "np.random.seed(0)\n",
        "corrs = [1, 0.7, 0.3, 0, -0.3, -0.7, -1]\n",
        "plt.figure(figsize=(len(corrs) , 2))\n",
        "for i, r in enumerate(corrs):\n",
        "  x, y, = np.random.multivariate_normal([0,0], [[1, r],[r, 1]], 1000).T\n",
        "  plt.subplot(1, len(corrs), i + 1)\n",
        "  plt.plot(x,y, 'ro', ms=1)\n",
        "  plt.axis('equal')\n",
        "  plt.xticks([])\n",
        "  plt.yticks([])\n",
        "  plt.title(f'corr : {r}')\n",
        "\n",
        "plt.suptitle('상관계수와 산점도 그래프의 모양', y=1.1)\n",
        "plt.tight_layout()\n",
        "plt.show()\n"
      ],
      "metadata": {
        "id": "BeYbbnO7WgmN"
      },
      "execution_count": null,
      "outputs": []
    },
    {
      "cell_type": "code",
      "source": [
        "# 랜덤 요소 제거\n",
        "np.random.seed(1)\n",
        "# 기울기 설정\n",
        "slops = [1, 0.7, 0.3, 0, -0.3, -0.7, -1]\n",
        "# 그래프 설정\n",
        "plt.figure(figsize=(len(slops),2))\n",
        "for i, s in enumerate(slops):\n",
        "  # 서브플롯 배경 그리기\n",
        "  plt.subplot(1, len(slops), i + 1)\n",
        "  # 다변수 표준정규분포\n",
        "  x, y = np.random.multivariate_normal([0,0], [[1,1], [1,1]], 100).T\n",
        "  # 기울기변경\n",
        "  y2 = s * y\n",
        "  # 데이터 플롯 그리기\n",
        "  plt.plot(x, y2, 'ro', ms=1)\n",
        "  # y값과 x값의 범위를 맞춰줌\n",
        "  plt.axis('equal')\n",
        "  # 특정된 x나 y값을 표현하는건데 지금은 아무것도 표현하지 않도록 설정\n",
        "  # 만약 아무것도 안주면 자동으로 생성하기 때문에 [] 인자 전달\n",
        "  plt.xticks([])\n",
        "  plt.yticks([])\n",
        "  if s > 0:\n",
        "    # 서브플롯의 제목\n",
        "    plt.title('corr=1')\n",
        "  else:\n",
        "    plt.title('corr=-1')\n",
        "# 플롯의 대제목\n",
        "plt.suptitle('상관계수와 기울기의 관계', y=1.1)\n",
        "# 축의 글자가 겹치지 않도록 layout 설정\n",
        "plt.tight_layout()\n",
        "# 그래프 show\n",
        "plt.show()"
      ],
      "metadata": {
        "id": "qGSkjXH7WhNM"
      },
      "execution_count": null,
      "outputs": []
    },
    {
      "cell_type": "code",
      "source": [
        "n = 500\n",
        "np.random.seed(2)\n",
        "plt.subplot(221)\n",
        "x1 = np.random.uniform(-1, 1, n)\n",
        "y1 = 2*x1**2 + np.random.uniform(-0.1, 0.1, n)\n",
        "plt.scatter(x1, y1)\n",
        "r1 = sp.stats.pearsonr(x1, y1)[0]\n",
        "plt.title(f'비선형 상관관계 : 1: r {r1.round(3)}')\n",
        "\n",
        "plt.subplot(222)\n",
        "x2 = np.random.uniform(-1, 1, n)\n",
        "y2 = 4 * (x2**2-0.5)**2 + 0.1 * np.random.uniform(-0.1, 0.1, n)\n",
        "plt.scatter(x2, y2)\n",
        "r2 = sp.stats.pearsonr(x2, y2)[0]\n",
        "plt.title(f'비선형 상관관계 2: r={r2.round(3)}')\n",
        "\n",
        "plt.subplot(223)\n",
        "x3 = np.random.uniform(-1, 1, n)\n",
        "y3 = np.cos(x3 * np.pi) + np.random.uniform(0, 1/8, n)\n",
        "x3 = np.sin(x3 * np.pi) + np.random.uniform(0, 1/8, n)\n",
        "plt.scatter(x3, y3)\n",
        "r3 = sp.stats.pearsonr(x3, y3)[0]\n",
        "plt.title(f'비선형 상관관계 3: r={r3.round(3)}')\n",
        "plt.tight_layout()\n",
        "\n",
        "plt.show()"
      ],
      "metadata": {
        "id": "tfC1PlePWjVs"
      },
      "execution_count": null,
      "outputs": []
    },
    {
      "cell_type": "markdown",
      "source": [
        "## 데이터 분포에 따른 유의점"
      ],
      "metadata": {
        "id": "OOSG1lCDW54w"
      }
    },
    {
      "cell_type": "code",
      "source": [
        "data = sm.datasets.get_rdataset('anscombe')"
      ],
      "metadata": {
        "id": "ivu5y29peIkd"
      },
      "execution_count": null,
      "outputs": []
    },
    {
      "cell_type": "code",
      "source": [
        "df = data.data\n",
        "df[['x1','y1','x2','y2','x3','y4','x4','y4']]"
      ],
      "metadata": {
        "id": "nkt7ao5ieNLA"
      },
      "execution_count": null,
      "outputs": []
    },
    {
      "cell_type": "code",
      "source": [
        "plt.subplot(221)\n",
        "sns.regplot(x = 'x1', y = 'y1', data=df)\n",
        "plt.subplot(222)\n",
        "sns.regplot(x = 'x2', y = 'y2', data=df)\n",
        "plt.subplot(223)\n",
        "sns.regplot(x = 'x3', y = 'y3', data=df)\n",
        "plt.subplot(224)\n",
        "sns.regplot(x = 'x4', y = 'y4', data=df)\n",
        "plt.tight_layout()\n",
        "plt.subplots_adjust(top=0.9)\n",
        "plt.suptitle('anscomb data')\n",
        "plt.show()"
      ],
      "metadata": {
        "id": "RXJjLDB2eOy2"
      },
      "execution_count": null,
      "outputs": []
    },
    {
      "cell_type": "code",
      "source": [
        "for i in range(1,5):\n",
        "  print(f'x{i}, y{i}의 상관계수: ',sp.stats.pearsonr(df[f'x{i}'], df[f'y{i}'])[0])"
      ],
      "metadata": {
        "id": "3qO1aw-tfBE9"
      },
      "execution_count": null,
      "outputs": []
    },
    {
      "cell_type": "code",
      "source": [],
      "metadata": {
        "id": "Xnc_shNMfZrw"
      },
      "execution_count": null,
      "outputs": []
    }
  ]
}