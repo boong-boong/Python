{
  "nbformat": 4,
  "nbformat_minor": 0,
  "metadata": {
    "colab": {
      "private_outputs": true,
      "provenance": [],
      "authorship_tag": "ABX9TyM10kMNDndCNzA3SkkH5Ob0",
      "include_colab_link": true
    },
    "kernelspec": {
      "name": "python3",
      "display_name": "Python 3"
    },
    "language_info": {
      "name": "python"
    }
  },
  "cells": [
    {
      "cell_type": "markdown",
      "metadata": {
        "id": "view-in-github",
        "colab_type": "text"
      },
      "source": [
        "<a href=\"https://colab.research.google.com/github/jh868/Python/blob/main/DataScience/day7_2(%EC%9E%90%EC%97%B0%EC%96%B4_%EC%B2%98%EB%A6%AC).ipynb\" target=\"_parent\"><img src=\"https://colab.research.google.com/assets/colab-badge.svg\" alt=\"Open In Colab\"/></a>"
      ]
    },
    {
      "cell_type": "markdown",
      "source": [
        "# 자연어 처리\n",
        "## 영어\n",
        "- NLTK\n",
        "      말뭉치, 토큰생성, 형태소 분석, 품사 태깅\n",
        "      "
      ],
      "metadata": {
        "id": "ATf1QQDIN-t5"
      }
    },
    {
      "cell_type": "code",
      "source": [
        "import nltk\n",
        "nltk.download('book', quiet=True)"
      ],
      "metadata": {
        "id": "8BgMU-13OI7H"
      },
      "execution_count": null,
      "outputs": []
    },
    {
      "cell_type": "code",
      "source": [
        "nltk.corpus.gutenberg.fileids()"
      ],
      "metadata": {
        "id": "rjnrFbhfOK8M"
      },
      "execution_count": null,
      "outputs": []
    },
    {
      "cell_type": "code",
      "source": [
        "emma_raw = nltk.corpus.gutenberg.raw('austen-emma.txt')"
      ],
      "metadata": {
        "id": "Pf4xKbdnOMpi"
      },
      "execution_count": null,
      "outputs": []
    },
    {
      "cell_type": "code",
      "source": [
        "print(emma_raw[:3000])"
      ],
      "metadata": {
        "id": "xBkmlp8hOOlL"
      },
      "execution_count": null,
      "outputs": []
    },
    {
      "cell_type": "markdown",
      "source": [
        "### 토큰 생성"
      ],
      "metadata": {
        "id": "xL6QS1ikOQKU"
      }
    },
    {
      "cell_type": "code",
      "source": [
        "from nltk.tokenize import sent_tokenize\n",
        "print(sent_tokenize(emma_raw[:1000])[0])\n",
        "# print(sent_tokenize(emma_raw[:1000])[3])"
      ],
      "metadata": {
        "id": "koVYq5J-OT8O"
      },
      "execution_count": null,
      "outputs": []
    },
    {
      "cell_type": "code",
      "source": [
        "from nltk.tokenize import word_tokenize\n",
        "word_tokenize(emma_raw[:1000])"
      ],
      "metadata": {
        "id": "h9edagC7OV4M"
      },
      "execution_count": null,
      "outputs": []
    },
    {
      "cell_type": "code",
      "source": [
        "from nltk.tokenize import RegexpTokenizer\n",
        "retokenize = RegexpTokenizer('[\\w]+')\n",
        "retokenize.tokenize(emma_raw[:1000])"
      ],
      "metadata": {
        "id": "cSBbqJyqOXdi"
      },
      "execution_count": null,
      "outputs": []
    },
    {
      "cell_type": "markdown",
      "source": [
        "### 형태소 분석"
      ],
      "metadata": {
        "id": "axfCAX2UOZLg"
      }
    },
    {
      "cell_type": "code",
      "source": [
        "from nltk.stem import PorterStemmer, LancasterStemmer\n",
        "\n",
        "st1 = PorterStemmer()\n",
        "st2 = LancasterStemmer()\n",
        "\n",
        "words = ['fly','flies','flying','flew','flown']\n",
        "\n",
        "print([st1.stem(w) for w in words])\n",
        "print([st2.stem(w) for w in words])"
      ],
      "metadata": {
        "id": "23oRQYlSObNh"
      },
      "execution_count": null,
      "outputs": []
    },
    {
      "cell_type": "code",
      "source": [
        "from nltk.stem import WordNetLemmatizer\n",
        "nltk.download('omw-1.4')\n",
        "\n",
        "lm = WordNetLemmatizer()\n",
        "\n",
        "[lm.lemmatize(w, pos='v') for w in words]"
      ],
      "metadata": {
        "id": "-h2t3tXGOd8y"
      },
      "execution_count": null,
      "outputs": []
    },
    {
      "cell_type": "markdown",
      "source": [
        "### 품사 부착\n",
        "- NNP : 단수 고유명사\n",
        "- VB : 동사\n",
        "- VBP : 동사현재형"
      ],
      "metadata": {
        "id": "bPdvHQlDOfhS"
      }
    },
    {
      "cell_type": "code",
      "source": [
        "nltk.help.upenn_tagset('VB')"
      ],
      "metadata": {
        "id": "UbgInsgIOiHS"
      },
      "execution_count": null,
      "outputs": []
    },
    {
      "cell_type": "code",
      "source": [
        "from nltk.tag import pos_tag\n",
        "tagged_list = pos_tag(word_tokenize(emma_raw[:1000]))"
      ],
      "metadata": {
        "id": "qQ_4BkdVOkBw"
      },
      "execution_count": null,
      "outputs": []
    },
    {
      "cell_type": "code",
      "source": [
        "[i[0] for i in tagged_list if i[1]=='NN']"
      ],
      "metadata": {
        "id": "xw7XoUJ3Olxq"
      },
      "execution_count": null,
      "outputs": []
    },
    {
      "cell_type": "code",
      "source": [
        "from nltk.tag import untag\n",
        "untag(tagged_list)"
      ],
      "metadata": {
        "id": "0h0Ir9i3OnUJ"
      },
      "execution_count": null,
      "outputs": []
    },
    {
      "cell_type": "code",
      "source": [
        "from nltk import Text\n",
        "text = Text(retokenize.tokenize(emma_raw))"
      ],
      "metadata": {
        "id": "aC_23XS0OpvJ"
      },
      "execution_count": null,
      "outputs": []
    },
    {
      "cell_type": "code",
      "source": [
        "import matplotlib.pyplot as plt\n",
        "text.plot(30)\n",
        "plt.show()"
      ],
      "metadata": {
        "id": "9GZmxmIjOxxm"
      },
      "execution_count": null,
      "outputs": []
    },
    {
      "cell_type": "code",
      "source": [
        "text.dispersion_plot(['Emma','Knightley','Frank','so'])"
      ],
      "metadata": {
        "id": "gidUyR2rO0s5"
      },
      "execution_count": null,
      "outputs": []
    },
    {
      "cell_type": "code",
      "source": [
        "text.concordance('Emma')"
      ],
      "metadata": {
        "id": "B6bh3UcsO3Ec"
      },
      "execution_count": null,
      "outputs": []
    },
    {
      "cell_type": "code",
      "source": [
        "text.similar('Emma')"
      ],
      "metadata": {
        "id": "YSQdVhmqO6CH"
      },
      "execution_count": null,
      "outputs": []
    },
    {
      "cell_type": "code",
      "source": [
        "# 빈도수 체크\n",
        "fd = text.vocab()\n",
        "type(fd)"
      ],
      "metadata": {
        "id": "27ObZmgZO-wf"
      },
      "execution_count": null,
      "outputs": []
    },
    {
      "cell_type": "code",
      "source": [
        "from nltk import FreqDist\n",
        "\n",
        "stopwords = ['Mr.','Mrs.','Miss','Mr','Mrs','Deer']\n",
        "emma_tokens = pos_tag(retokenize.tokenize(emma_raw))\n",
        "names_list = [t[0] for t in emma_tokens if t[1] == 'NNP' and t[0] not in stopwords]\n",
        "fd_names = FreqDist(names_list)"
      ],
      "metadata": {
        "id": "JCFL7hnlSUbk"
      },
      "execution_count": null,
      "outputs": []
    },
    {
      "cell_type": "code",
      "source": [
        "fd_names.N(), fd_names['Emma'], fd_names.freq('Emma')"
      ],
      "metadata": {
        "id": "oSKawiTvSsho"
      },
      "execution_count": null,
      "outputs": []
    },
    {
      "cell_type": "code",
      "source": [
        "names_list"
      ],
      "metadata": {
        "id": "E9uEA_ZhS8jq"
      },
      "execution_count": null,
      "outputs": []
    },
    {
      "cell_type": "code",
      "source": [
        "fd_names.most_common(5)"
      ],
      "metadata": {
        "id": "fByCCcVrS-Zs"
      },
      "execution_count": null,
      "outputs": []
    },
    {
      "cell_type": "code",
      "source": [
        "from wordcloud import WordCloud\n",
        "\n",
        "wc = WordCloud(width=1000, height=600, background_color ='white')\n",
        "plt.imshow(wc.generate_from_frequencies(fd_names))\n",
        "plt.show()"
      ],
      "metadata": {
        "id": "defqZ-WtYZxR"
      },
      "execution_count": null,
      "outputs": []
    },
    {
      "cell_type": "markdown",
      "source": [
        "## 한글\n",
        "- konlp\n",
        "      tokenizing, 형태소 분석 등등"
      ],
      "metadata": {
        "id": "av4zXN1oYbcv"
      }
    },
    {
      "cell_type": "code",
      "source": [
        "!pip install konlpy"
      ],
      "metadata": {
        "id": "ZvQ7IzVYYeFf"
      },
      "execution_count": null,
      "outputs": []
    },
    {
      "cell_type": "code",
      "source": [
        "from konlpy.corpus import kolaw"
      ],
      "metadata": {
        "id": "KA4eF1G6YhSu"
      },
      "execution_count": null,
      "outputs": []
    },
    {
      "cell_type": "code",
      "source": [
        "import warnings\n",
        "warnings.simplefilter('ignore')\n",
        "import konlpy\n",
        "konlpy.__version__"
      ],
      "metadata": {
        "id": "belYSndmYjEQ"
      },
      "execution_count": null,
      "outputs": []
    },
    {
      "cell_type": "code",
      "source": [
        "from konlpy.corpus import kolaw\n",
        "kolaw.fileids()"
      ],
      "metadata": {
        "id": "kTaVMhtHYkt4"
      },
      "execution_count": null,
      "outputs": []
    },
    {
      "cell_type": "code",
      "source": [
        "c = kolaw.open('constitution.txt').read()\n",
        "print(c)"
      ],
      "metadata": {
        "id": "TWJoflKAYmSW"
      },
      "execution_count": null,
      "outputs": []
    },
    {
      "cell_type": "code",
      "source": [
        "from konlpy.corpus import kobill\n",
        "kobill.fileids()"
      ],
      "metadata": {
        "id": "jFxFRHm6YnjV"
      },
      "execution_count": null,
      "outputs": []
    },
    {
      "cell_type": "code",
      "source": [
        "d = kobill.open('1809893.txt').read()\n",
        "print(d)"
      ],
      "metadata": {
        "id": "klFy-nthYqNS"
      },
      "execution_count": null,
      "outputs": []
    },
    {
      "cell_type": "code",
      "source": [
        "from konlpy.tag import *\n",
        "\n",
        "hannanum = Hannanum()\n",
        "kkma = Kkma()\n",
        "komoran = Komoran()\n",
        "# mecab = Mecab()\n",
        "okt = Okt()"
      ],
      "metadata": {
        "id": "AMzIB6b8YsV_"
      },
      "execution_count": null,
      "outputs": []
    },
    {
      "cell_type": "code",
      "source": [
        "hannanum.nouns(c)"
      ],
      "metadata": {
        "id": "RxqgglWqYv7R"
      },
      "execution_count": null,
      "outputs": []
    },
    {
      "cell_type": "code",
      "source": [
        "kkma.nouns(c[:100])"
      ],
      "metadata": {
        "id": "M-Thx2yMYzfO"
      },
      "execution_count": null,
      "outputs": []
    },
    {
      "cell_type": "code",
      "source": [
        "komoran.nouns('\\n'.join([s for s in c.split('\\n') if s]))"
      ],
      "metadata": {
        "id": "KiWo-HMwY3yD"
      },
      "execution_count": null,
      "outputs": []
    },
    {
      "cell_type": "code",
      "source": [
        "okt.nouns(c[:1000])"
      ],
      "metadata": {
        "id": "8PI-PimuY68Z"
      },
      "execution_count": null,
      "outputs": []
    },
    {
      "cell_type": "code",
      "source": [
        "hannanum.morphs(c[:100])"
      ],
      "metadata": {
        "id": "va32SMcGY9Yc"
      },
      "execution_count": null,
      "outputs": []
    },
    {
      "cell_type": "code",
      "source": [
        "kkma.morphs(c[:100])"
      ],
      "metadata": {
        "id": "SHOCF18IY-rv"
      },
      "execution_count": null,
      "outputs": []
    },
    {
      "cell_type": "code",
      "source": [
        "hannanum.morphs(c[:100])"
      ],
      "metadata": {
        "id": "8dCmQPuwZBHh"
      },
      "execution_count": null,
      "outputs": []
    },
    {
      "cell_type": "code",
      "source": [
        "hannanum.pos(c[:100])"
      ],
      "metadata": {
        "id": "kkJ4_ksWZDPf"
      },
      "execution_count": null,
      "outputs": []
    },
    {
      "cell_type": "code",
      "source": [
        "kkma.pos(c[:100])"
      ],
      "metadata": {
        "id": "9ejLqPB1ZLkA"
      },
      "execution_count": null,
      "outputs": []
    },
    {
      "cell_type": "code",
      "source": [
        "komoran.pos(c[:100])"
      ],
      "metadata": {
        "id": "6jEgvASSZNui"
      },
      "execution_count": null,
      "outputs": []
    },
    {
      "cell_type": "code",
      "source": [
        "okt.pos(c[:100])"
      ],
      "metadata": {
        "id": "D4RDqd9FZP7L"
      },
      "execution_count": null,
      "outputs": []
    },
    {
      "cell_type": "code",
      "source": [
        "from nltk import Text\n",
        "!pip install koreanize-matplotlib\n",
        "import koreanize_matplotlib\n",
        "\n",
        "kolaw = Text(okt.nouns(c), name='kolaw')\n",
        "kolaw.plot(30)\n",
        "plt.show()"
      ],
      "metadata": {
        "id": "Fy-f3BQLZUyT"
      },
      "execution_count": null,
      "outputs": []
    },
    {
      "cell_type": "code",
      "source": [
        "from wordcloud import WordCloud\n",
        "\n",
        "font = '/usr/share/fonts/truetype/nanum/NanumBarunGothic.ttf'\n",
        "\n",
        "wc = WordCloud(width=1000, height = 600, background_color = 'white', font_path =font)\n",
        "plt.imshow(wc.generate_from_frequencies(kolaw.vocab()))\n",
        "plt.axis('off')\n",
        "plt.show()"
      ],
      "metadata": {
        "id": "8x4En3EHZkr5"
      },
      "execution_count": null,
      "outputs": []
    },
    {
      "cell_type": "code",
      "source": [
        "#import matplotlib\n",
        "#matplotlib.font_manager.findSystemFonts()"
      ],
      "metadata": {
        "id": "PA-JQaL5aYIl"
      },
      "execution_count": null,
      "outputs": []
    },
    {
      "cell_type": "code",
      "source": [
        "#!sudo apt-get install -y fonts-nanum\n",
        "#!sudo fc-cache -fv\n",
        "#!rm ~/.cache/matplotlib -rf"
      ],
      "metadata": {
        "id": "fnUXukrgarpb"
      },
      "execution_count": null,
      "outputs": []
    },
    {
      "cell_type": "code",
      "source": [],
      "metadata": {
        "id": "8-td9_ChbHNY"
      },
      "execution_count": null,
      "outputs": []
    }
  ]
}