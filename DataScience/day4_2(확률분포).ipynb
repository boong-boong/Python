{
  "nbformat": 4,
  "nbformat_minor": 0,
  "metadata": {
    "colab": {
      "private_outputs": true,
      "provenance": [],
      "authorship_tag": "ABX9TyMpJx5SXdDrtZdZI1xyipGi",
      "include_colab_link": true
    },
    "kernelspec": {
      "name": "python3",
      "display_name": "Python 3"
    },
    "language_info": {
      "name": "python"
    }
  },
  "cells": [
    {
      "cell_type": "markdown",
      "metadata": {
        "id": "view-in-github",
        "colab_type": "text"
      },
      "source": [
        "<a href=\"https://colab.research.google.com/github/jh868/Python/blob/main/DataScience/day4_2(%ED%99%95%EB%A5%A0%EB%B6%84%ED%8F%AC).ipynb\" target=\"_parent\"><img src=\"https://colab.research.google.com/assets/colab-badge.svg\" alt=\"Open In Colab\"/></a>"
      ]
    },
    {
      "cell_type": "code",
      "execution_count": null,
      "metadata": {
        "id": "FdGvyfWaueBf"
      },
      "outputs": [],
      "source": [
        "!pip install koreanize-matplotlib"
      ]
    },
    {
      "cell_type": "markdown",
      "source": [
        "# 확률분포의 종류\n",
        "- 이항분포\n",
        "      binom\n",
        "- 다항분포\n",
        "      multinomial\n",
        "- 정규분포\n",
        "      norm\n",
        "- 균일분포\n",
        "      uniform\n",
        "- 베타분포\n",
        "      beta\n",
        "- 감마분포\n",
        "      gamma\n",
        "- t - 분포\n",
        "      t\n",
        "- 카이제곱분포\n",
        "      chi2"
      ],
      "metadata": {
        "id": "fsSyAnPtjfGX"
      }
    },
    {
      "cell_type": "markdown",
      "source": [
        "## 모수 지정\n",
        "평균, 편차\n",
        "\n",
        "분포의 기대값, 표준편차"
      ],
      "metadata": {
        "id": "hhXKac0ZjiO5"
      }
    },
    {
      "cell_type": "markdown",
      "source": [
        "      pdf : 확률밀도함수\n",
        "      pmf : 확률질량함수\n",
        "      cdf : 누적확률밀도함수\n",
        "      ppf : cdf의 역함수"
      ],
      "metadata": {
        "id": "Kd-XRNsIjlxp"
      }
    },
    {
      "cell_type": "code",
      "source": [
        "import scipy as sp\n",
        "import scipy.stats\n",
        "import numpy as np\n",
        "rv = scipy.stats.norm(1, 2)"
      ],
      "metadata": {
        "id": "v25SaONJjogp"
      },
      "execution_count": null,
      "outputs": []
    },
    {
      "cell_type": "code",
      "source": [
        "import koreanize_matplotlib\n",
        "import matplotlib.pyplot as plt\n",
        "import seaborn as sns"
      ],
      "metadata": {
        "id": "lTqxsU9Ljp7S"
      },
      "execution_count": null,
      "outputs": []
    },
    {
      "cell_type": "code",
      "source": [
        "x = np.linspace(-10, 10, 200)\n",
        "pdf = rv.pdf(x)\n",
        "plt.plot(x, pdf)\n",
        "plt.title('확률밀도함수')\n",
        "plt.grid()\n",
        "plt.show()"
      ],
      "metadata": {
        "id": "FAV0W79ojrIH"
      },
      "execution_count": null,
      "outputs": []
    },
    {
      "cell_type": "code",
      "source": [
        "cdf = rv.cdf(x)\n",
        "plt.plot(x, cdf)\n",
        "plt.title('누적확률밀도함수')\n",
        "plt.grid()\n",
        "plt.show()"
      ],
      "metadata": {
        "id": "G8-bcxifjtJx"
      },
      "execution_count": null,
      "outputs": []
    },
    {
      "cell_type": "code",
      "source": [
        "# random value sampling\n",
        "sns.distplot(rv.rvs(size=10000, random_state=0))\n",
        "plt.title('랜덤 표본 그래프')\n",
        "plt.xlabel('표본값')\n",
        "plt.ylabel('count')\n",
        "plt.show()"
      ],
      "metadata": {
        "id": "huW4qzA8jvmm"
      },
      "execution_count": null,
      "outputs": []
    },
    {
      "cell_type": "markdown",
      "source": [
        "변환 확률 변수의 시뮬레이션"
      ],
      "metadata": {
        "id": "ozHLRhsNjxD6"
      }
    },
    {
      "cell_type": "code",
      "source": [
        "rv1 = sp.stats.uniform()\n",
        "rv2 = sp.stats.uniform()\n",
        "\n",
        "np.random.seed(0)\n",
        "N = 50000\n",
        "x_1 = rv1.rvs(N)\n",
        "x_2 = rv2.rvs(N)\n",
        "\n",
        "x_3 = x_1 + x_2\n",
        "\n",
        "plt.subplot(131)\n",
        "sns.distplot(x_1, kde=False)\n",
        "plt.grid()\n",
        "plt.title('균일분포')\n",
        "plt.xlabel('표본값')\n",
        "\n",
        "plt.subplot(132)\n",
        "sns.distplot(x_2, kde=False)\n",
        "plt.grid()\n",
        "plt.title('균일분포')\n",
        "plt.xlabel('표본값')\n",
        "\n",
        "plt.subplot(133)\n",
        "sns.distplot(x_3, kde=False)\n",
        "plt.title('균일분포 표본의 합의 분포')\n",
        "plt.grid()\n",
        "plt.tight_layout()\n",
        "plt.show()"
      ],
      "metadata": {
        "id": "PK7KLiCujznk"
      },
      "execution_count": null,
      "outputs": []
    },
    {
      "cell_type": "markdown",
      "source": [
        "### 베르누이 분포\n",
        "      bernoulli\n",
        "      베르누이 실험 : 결과가 두개 밖에 없는 실험(동전)\n",
        "      베르누이의 확률변수 : 이산확률변수 {0,1}, {-1,1}\n",
        "$$Bern(x;μ)={μ^x}{(1-μ)^{(1-x)}}$$"
      ],
      "metadata": {
        "id": "8RSeiJoQj1D8"
      }
    },
    {
      "cell_type": "code",
      "source": [
        "mu = 0.6\n",
        "rv = scipy.stats.bernoulli(mu)\n",
        "rv"
      ],
      "metadata": {
        "id": "-g4fnFuXj4K-"
      },
      "execution_count": null,
      "outputs": []
    },
    {
      "cell_type": "code",
      "source": [
        "x = [0, 1]\n",
        "plt.bar(x, rv.pmf(x))\n",
        "plt.xticks([0,1], ['x=0','x=1'])\n",
        "plt.grid()\n",
        "plt.xlabel('표본값')\n",
        "plt.title('베르누이 확률질량 함수')\n",
        "plt.show()"
      ],
      "metadata": {
        "id": "q7gER8fzj5-p"
      },
      "execution_count": null,
      "outputs": []
    },
    {
      "cell_type": "code",
      "source": [
        "x = rv.rvs(100, random_state=0)\n",
        "x"
      ],
      "metadata": {
        "id": "Ciw8R3Csj7Jy"
      },
      "execution_count": null,
      "outputs": []
    },
    {
      "cell_type": "code",
      "source": [
        "sns.countplot(x)\n",
        "plt.title('베르누이의 확률변수 시뮬레이션')\n",
        "plt.xlabel('표본값')\n",
        "plt.grid()\n",
        "plt.show()"
      ],
      "metadata": {
        "id": "Oy3gLjDlj8ZY"
      },
      "execution_count": null,
      "outputs": []
    },
    {
      "cell_type": "code",
      "source": [
        "import pandas as pd\n",
        "y = np.bincount(x, minlength=2)/float(len(x))\n",
        "df = pd.DataFrame({'이론':rv.pmf([0,1]), '시뮬레이션' : y})\n",
        "df.index = [0,1]\n",
        "df"
      ],
      "metadata": {
        "id": "SVSIU69cj9yw"
      },
      "execution_count": null,
      "outputs": []
    },
    {
      "cell_type": "code",
      "source": [
        "for i in range(200):\n",
        "  x = rv.rvs(i, random_state=0)\n",
        "  y = np.bincount(x, minlength=2)/float(len(x))\n",
        "  print(f'표본 수가 {i}개 일때 이론값 : {rv.pmf([0,1])}, 표본값 : {y}')"
      ],
      "metadata": {
        "id": "nQw3K4yGj_ux"
      },
      "execution_count": null,
      "outputs": []
    },
    {
      "cell_type": "markdown",
      "source": [
        "### 이항분포\n",
        "베르누이 분포에서 실험을 여러번 한 것이 이항분포\n",
        "\n",
        "$$ X∼Bin(x;N,μ)$$\n",
        "\n",
        "표본 중 성공일 경우 1 아닐경우 0\n",
        "\n",
        "N개의 표본 중 성공 횟수는 N개의 표본을 모두 더한 것과 같다.\n",
        "$$x=\\Sigma{y_i}$$\n",
        "\n",
        "확률 질량 함수\n",
        "$$Bin(x;N,μ) = \\binom{N}{x}{μ^x}{(1-μ)^{(N-x)}}$$"
      ],
      "metadata": {
        "id": "BbuW_uUJkBSl"
      }
    },
    {
      "cell_type": "code",
      "source": [
        "N = 10\n",
        "mu = 0.6\n",
        "rv = scipy.stats.binom(N, mu)"
      ],
      "metadata": {
        "id": "cIJRMBFqkFN0"
      },
      "execution_count": null,
      "outputs": []
    },
    {
      "cell_type": "code",
      "source": [
        "x_ = np.arange(N + 1)\n",
        "plt.bar(x, rv.pmf(x), align='center')\n",
        "plt.title('이항분포의 확률질량함수')\n",
        "plt.xlabel('표본값')\n",
        "plt.ylabel('P(X)')\n",
        "plt.show()"
      ],
      "metadata": {
        "id": "ThvgplBGkJdz"
      },
      "execution_count": null,
      "outputs": []
    },
    {
      "cell_type": "markdown",
      "source": [
        "이항분포 시뮬레이션"
      ],
      "metadata": {
        "id": "rl1O_NaKkLBY"
      }
    },
    {
      "cell_type": "code",
      "source": [
        "np.random.seed(0)\n",
        "x = rv.rvs(1000)\n",
        "# x"
      ],
      "metadata": {
        "id": "9dajVdSgkVyn"
      },
      "execution_count": null,
      "outputs": []
    },
    {
      "cell_type": "code",
      "source": [
        "sns.countplot(x)\n",
        "plt.title('이항분포의 시뮬레이션 결과')\n",
        "plt.xlabel(\"표본값\")\n",
        "plt.show()"
      ],
      "metadata": {
        "id": "nxxE96tIkXBw"
      },
      "execution_count": null,
      "outputs": []
    },
    {
      "cell_type": "code",
      "source": [
        "y = np.bincount(x, minlength=N+1)/float(len(x))\n",
        "df = pd.DataFrame({'이론':rv.pmf(x_), '시뮬레이션':y}).stack()"
      ],
      "metadata": {
        "id": "eHRzuAolkYM7"
      },
      "execution_count": null,
      "outputs": []
    },
    {
      "cell_type": "code",
      "source": [
        "df = df.reset_index()\n",
        "df.columns = ['표본값','유형','비율']"
      ],
      "metadata": {
        "id": "pXmAYdiFkZ_r"
      },
      "execution_count": null,
      "outputs": []
    },
    {
      "cell_type": "code",
      "source": [
        "sns.barplot(x='표본값', y='비율', hue='유형', data=df)\n",
        "plt.title('이항분포의 이론적 분포와 표본의 분포')\n",
        "plt.show()"
      ],
      "metadata": {
        "id": "14DJGzLGkbJE"
      },
      "execution_count": null,
      "outputs": []
    },
    {
      "cell_type": "markdown",
      "source": [
        "### 정규분포\n",
        "가우스 분포라고도 함\n",
        "보통 자연현상에 나타나는 수치 정규분포 가정을 많이 함\n",
        "\n",
        "$$ N(x;μ,{q^2}) = \\frac{1}{{(2π{q^2})}^\\frac{1}{2}}exp(-\\frac{{(x-μ)}^2}{2{q^2}})$$"
      ],
      "metadata": {
        "id": "bhZb1Va3kcRD"
      }
    },
    {
      "cell_type": "code",
      "source": [
        "mu = 0\n",
        "std = 1\n",
        "rv = scipy.stats.norm(mu, std)"
      ],
      "metadata": {
        "id": "1g80CmwHkgPw"
      },
      "execution_count": null,
      "outputs": []
    },
    {
      "cell_type": "code",
      "source": [
        "x_ = np.linspace(-10,10, 100)\n",
        "plt.plot(x_, rv.pdf(x_))\n",
        "plt.arrow(0,0.05,2,0, lw=3, color='r', head_width=0.02, head_length=0.2, length_includes_head=True)\n",
        "plt.arrow(0,0.05,-2,0, lw=3, color='r', head_width=0.02, head_length=0.2, length_includes_head=True)\n",
        "plt.show()"
      ],
      "metadata": {
        "id": "kiyaIBMVkhin"
      },
      "execution_count": null,
      "outputs": []
    },
    {
      "cell_type": "code",
      "source": [
        "np.random.seed(0)\n",
        "x = rv.rvs(100000)\n",
        "# x"
      ],
      "metadata": {
        "id": "JwzBGHDLkjL2"
      },
      "execution_count": null,
      "outputs": []
    },
    {
      "cell_type": "code",
      "source": [
        "# 표본 생성 결과\n",
        "sns.distplot(x, fit=scipy.stats.norm)\n",
        "plt.grid()\n",
        "plt.show()"
      ],
      "metadata": {
        "id": "uZeXNq3Gkkax"
      },
      "execution_count": null,
      "outputs": []
    },
    {
      "cell_type": "code",
      "source": [
        "from sklearn.datasets import load_iris\n",
        "\n",
        "setosa_sepal_length = load_iris().data[:50,2]\n",
        "sns.distplot(setosa_sepal_length, rug=True)\n",
        "plt.tight_layout()\n",
        "plt.show()"
      ],
      "metadata": {
        "id": "Xqcs6ZaIklYP"
      },
      "execution_count": null,
      "outputs": []
    },
    {
      "cell_type": "code",
      "source": [
        "import pandas_datareader.data as web\n",
        "\n",
        "symbol = 'NASDAQCOM'\n",
        "data = web.DataReader(symbol, data_source='fred', start='2009-01-01', end='2021-12-31')[symbol]\n",
        "data = data.dropna()\n",
        "data.plot(legend=False)\n",
        "plt.grid()\n",
        "plt.title('나스닥 지수')\n",
        "plt.show()"
      ],
      "metadata": {
        "id": "Vc3UDxS9kmx5"
      },
      "execution_count": null,
      "outputs": []
    },
    {
      "cell_type": "code",
      "source": [
        "daily_returns = data.pct_change().dropna()\n",
        "mean = daily_returns.mean()\n",
        "std = daily_returns.std()\n",
        "mean*100, std* 100"
      ],
      "metadata": {
        "id": "tle3bK36koQc"
      },
      "execution_count": null,
      "outputs": []
    },
    {
      "cell_type": "code",
      "source": [
        "sns.distplot(daily_returns, kde=True)\n",
        "plt.title('나스닥 일간 수익율분포')\n",
        "plt.show()"
      ],
      "metadata": {
        "id": "LM1zS33mkpa6"
      },
      "execution_count": null,
      "outputs": []
    },
    {
      "cell_type": "markdown",
      "source": [
        "로그정규 분포"
      ],
      "metadata": {
        "id": "5YcUp0N6kqX1"
      }
    },
    {
      "cell_type": "markdown",
      "source": [
        "항상 양수인 데이터 가정할 수 있는 분포"
      ],
      "metadata": {
        "id": "L_v4Zp3Yk3K3"
      }
    },
    {
      "cell_type": "code",
      "source": [
        "np.random.seed(0)\n",
        "mu = 1\n",
        "rv = scipy.stats.norm(mu)\n",
        "x1 = rv.rvs(1000)\n",
        "s = .5\n",
        "x2 = np.exp(s * x1)\n",
        "fig, ax = plt.subplots(1,2)\n",
        "sns.distplot(x1, kde=False, ax= ax[0])\n",
        "ax[0].set_title('정규분포')\n",
        "sns.distplot(x2, ax=ax[1], kde= False)\n",
        "ax[1].set_title('로그정규분포')\n",
        "plt.tight_layout()\n",
        "plt.show()"
      ],
      "metadata": {
        "id": "wMEGxhTnk35w"
      },
      "execution_count": null,
      "outputs": []
    },
    {
      "cell_type": "markdown",
      "source": [
        "## Q-Q 플롯\n",
        "\n",
        "어떤 확률변수의 분포가 정규분포인지 검사하는 그래프\n",
        "\n",
        "정규분포를 따를 때 Q-Q플롯은 직선의 형태를 가집니다. \n",
        "\n",
        "정규분포를 따르지 않을 때 Q-Q플롯은 곡선이 발생"
      ],
      "metadata": {
        "id": "FkBXil76k5QR"
      }
    },
    {
      "cell_type": "code",
      "source": [
        "mu = 0\n",
        "std = 1\n",
        "rv = scipy.stats.norm(mu, std)"
      ],
      "metadata": {
        "id": "RE-yRDF_k7_w"
      },
      "execution_count": null,
      "outputs": []
    },
    {
      "cell_type": "code",
      "source": [
        "x = rv.rvs(10000)\n",
        "x_sorted = np.sort(x)\n",
        "x_sorted"
      ],
      "metadata": {
        "id": "a1pjn4vak9f8"
      },
      "execution_count": null,
      "outputs": []
    },
    {
      "cell_type": "code",
      "source": [
        "from scipy.stats.morestats import _calc_uniform_order_statistic_medians"
      ],
      "metadata": {
        "id": "EgLT2v30k-Zw"
      },
      "execution_count": null,
      "outputs": []
    },
    {
      "cell_type": "code",
      "source": [
        "position = _calc_uniform_order_statistic_medians(len(x))"
      ],
      "metadata": {
        "id": "M14rkxFYk_tm"
      },
      "execution_count": null,
      "outputs": []
    },
    {
      "cell_type": "code",
      "source": [
        "position"
      ],
      "metadata": {
        "id": "c8NDaRGblAs6"
      },
      "execution_count": null,
      "outputs": []
    },
    {
      "cell_type": "code",
      "source": [
        "ff = rv.ppf(position)\n",
        "ff"
      ],
      "metadata": {
        "id": "y7F-1_cMlBsU"
      },
      "execution_count": null,
      "outputs": []
    },
    {
      "cell_type": "code",
      "source": [
        "plt.scatter(ff, x_sorted)\n",
        "plt.title('QQ')\n",
        "plt.axis('equal')\n",
        "plt.show()"
      ],
      "metadata": {
        "id": "plA-9utwlCor"
      },
      "execution_count": null,
      "outputs": []
    },
    {
      "cell_type": "code",
      "source": [
        "np.random.seed(0)\n",
        "plt.figure(figsize=(7,7))\n",
        "sp.stats.probplot(x, plot=plt)\n",
        "plt.axis('equal')\n",
        "plt.show()"
      ],
      "metadata": {
        "id": "TSv1sw0jlDsG"
      },
      "execution_count": null,
      "outputs": []
    },
    {
      "cell_type": "code",
      "source": [
        "np.random.seed(0)\n",
        "x = np.random.rand(10000)\n",
        "plt.figure(figsize=(7,7))\n",
        "scipy.stats.probplot(x, plot=plt)\n",
        "plt.show()"
      ],
      "metadata": {
        "id": "a5J3Tn0jlE_Q"
      },
      "execution_count": null,
      "outputs": []
    },
    {
      "cell_type": "code",
      "source": [
        "petal_width = load_iris().data[:,3]"
      ],
      "metadata": {
        "id": "tcYe1C2jlGJe"
      },
      "execution_count": null,
      "outputs": []
    },
    {
      "cell_type": "code",
      "source": [
        "petal_width"
      ],
      "metadata": {
        "id": "LOORaPDzlHQ7"
      },
      "execution_count": null,
      "outputs": []
    },
    {
      "cell_type": "code",
      "source": [
        "plt.figure(figsize=(7,7))\n",
        "sp.stats.probplot(petal_width, plot =plt)\n",
        "plt.show()"
      ],
      "metadata": {
        "id": "u0q1k3GflIVS"
      },
      "execution_count": null,
      "outputs": []
    },
    {
      "cell_type": "markdown",
      "source": [
        "### 중심 극한 정리\n",
        "\n",
        "여러개의 확률변수의 합이 정규분포와 비슷한 분포를 이루는 현상\n",
        "\n",
        "확률변수의 평균들의 평균은 확률변수의 수가 무한히 많아지게 되면 모집단의 평균과 분산이 된다."
      ],
      "metadata": {
        "id": "vQxuz3a4lJrD"
      }
    },
    {
      "cell_type": "code",
      "source": [
        "np.random.seed(0)\n",
        "xx = np.linspace(-2,2,100)\n",
        "\n",
        "plt.figure(figsize=(6,9))\n",
        "\n",
        "for i, N in enumerate([1,2,10, 100]):\n",
        "  X = np.random.rand(5000, N)\n",
        "  Xbar = (X.mean(axis=1)-0.5)*np.sqrt(12*N)\n",
        "  ax = plt.subplot(4,2,2*i+1)\n",
        "  sns.distplot(Xbar, bins=10, kde=False, norm_hist=True)\n",
        "  ax.set_title(f'N = {N}')\n",
        "  plt.subplot(4,2,2*i+2)\n",
        "  sp.stats.probplot(Xbar, plot=plt)\n",
        "\n",
        "plt.tight_layout()\n",
        "plt.show()"
      ],
      "metadata": {
        "id": "KrFT7t-glNhv"
      },
      "execution_count": null,
      "outputs": []
    },
    {
      "cell_type": "markdown",
      "source": [
        "### 스튜던트 t분포\n",
        "\n",
        "정규분포에서 양끝단의 분포가 많아지는 분포를 t분포(fat tail 현상)\n",
        "\n",
        "정규분포와 유사하지만 왼쪽오른쪽 부분이 더길고 두꺼움\n",
        "\n",
        "정규분포의 평균을 찾을 때 활용되고, 주로 표본의 크기가 작으을 때 주로 사용되는 분포\n",
        "\n",
        "표본의 크기가 작을 수록 정규분포와 가까워집니다.\n",
        "\n",
        "- t분포의 기댓값\n",
        "      정규분포와 동일 평균\n",
        "\n",
        "- t분포의 분산\n",
        "$$Var[X]=\\frac{v}{λ(v-2)}$$"
      ],
      "metadata": {
        "id": "UB6Y3YdtlO76"
      }
    },
    {
      "cell_type": "code",
      "source": [
        "# import panads_datareader.data as web\n",
        "import pandas_datareader.data as web\n",
        "symbols = ['SP500','NASDAQCOM','DJCA', 'NIKKEI225']\n",
        "data = pd.DataFrame()\n",
        "for sym in symbols:\n",
        "  data[sym] = web.DataReader(sym, data_source='fred')[sym]\n",
        "data = data.dropna()"
      ],
      "metadata": {
        "id": "gaUObVTclShZ"
      },
      "execution_count": null,
      "outputs": []
    },
    {
      "cell_type": "code",
      "source": [
        "(data/data.iloc[0]*100).plot()\n",
        "plt.xlabel('날짜')\n",
        "plt.ylabel('주가 수익율')\n",
        "plt.grid()\n",
        "plt.show()"
      ],
      "metadata": {
        "id": "YahkIxAOlUhV"
      },
      "execution_count": null,
      "outputs": []
    },
    {
      "cell_type": "code",
      "source": [
        "log_returns = np.log(data/data.shift(1))\n",
        "log_returns.hist(bins=50)\n",
        "plt.tight_layout()\n",
        "plt.show()"
      ],
      "metadata": {
        "id": "FStHpNUllVtC"
      },
      "execution_count": null,
      "outputs": []
    },
    {
      "cell_type": "code",
      "source": [
        "for i, sym in enumerate(symbols):\n",
        "  ax = plt.subplot(2, 2, i+1)\n",
        "  sp.stats.probplot(log_returns[sym].dropna(),plot=ax)\n",
        "plt.tight_layout()\n",
        "plt.show()"
      ],
      "metadata": {
        "id": "NBU_vvjolXAg"
      },
      "execution_count": null,
      "outputs": []
    },
    {
      "cell_type": "code",
      "source": [
        "xx = np.linspace(-4,4,100)\n",
        "for df in [1, 2, 5, 10, 20]:\n",
        "  rv = sp.stats.t(df=df)\n",
        "  plt.plot(xx, rv.pdf(xx), label=f'스튜던트 t 분포(df={df})')\n",
        "plt.plot(xx, sp.stats.norm().pdf(xx), label='정규분포', lw=5, alpha=0.5)\n",
        "plt.title('자유도에 따른 스튜던트 t분포의 변화')\n",
        "plt.ylabel('P(x)')\n",
        "plt.legend()\n",
        "plt.show()"
      ],
      "metadata": {
        "id": "Zfueg77BlYKI"
      },
      "execution_count": null,
      "outputs": []
    },
    {
      "cell_type": "markdown",
      "source": [
        "### 카이제곱 분포\n",
        "얼마난 특별한 사건이 일어나는지를 확인하는 분포\n",
        "\n",
        "t분포와는 다르게 제곱을해서 양수값만 가지도록 만든것이 카이제곱 분포\n",
        "\n",
        "표본 분포가 모분포를 잘 반영하는지 알아낼 때 사용하는 분포\n"
      ],
      "metadata": {
        "id": "GdEGB1yalZYq"
      }
    },
    {
      "cell_type": "code",
      "source": [
        "xx = np.linspace(0.01, 10, 100)\n",
        "dfs = np.arange(1,7)\n",
        "lss = ['-','--','-.',':','-.','-.']\n",
        "\n",
        "for df, ls in zip(dfs, lss):\n",
        "  rv = scipy.stats.chi2(df=df)\n",
        "  plt.plot(xx, rv.pdf(xx), ls=ls, label=f\"자유도 : {df}\")\n",
        "plt.title('자유도에 따른 카이제곱 분포')\n",
        "plt.ylim(0,0.6)\n",
        "plt.xlabel('표본값')\n",
        "plt.ylabel('p(x)')\n",
        "plt.legend()\n",
        "plt.show()"
      ],
      "metadata": {
        "id": "M6877tHhlcPs"
      },
      "execution_count": null,
      "outputs": []
    },
    {
      "cell_type": "markdown",
      "source": [
        "### F-분포\n",
        "여러 집단에 대해서 각 집단의 평균이 의미있게 차이가 나는지 측정 할 때 사용\n",
        "\n",
        "선형 회귀 분석에 회귀분석모델이 전체 데이터 변동을 잘 설명하고 있는지 비교하기 위해서 사용\n",
        "\n"
      ],
      "metadata": {
        "id": "pK55Qao0ldsZ"
      }
    },
    {
      "cell_type": "code",
      "source": [
        "xx = np.linspace(0.03, 3, 1000)\n",
        "plt.plot(xx, scipy.stats.f(1,2).pdf(xx), ls = '-', label='F(1,2)')\n",
        "plt.plot(xx, scipy.stats.f(3,5).pdf(xx), ls = '-', label='F(1,2)')\n",
        "plt.plot(xx, scipy.stats.f(10,10).pdf(xx), ls = '-', label='F(1,2)')\n",
        "plt.title('자유도에 따른 F분포의 모양')\n",
        "plt.legend()\n",
        "plt.show()"
      ],
      "metadata": {
        "id": "yD6veKXCqozC"
      },
      "execution_count": null,
      "outputs": []
    },
    {
      "cell_type": "markdown",
      "source": [
        "## 확률분포의 결정\n",
        "\n",
        "확률변수가 베르누이, 이항, 정규분포중에 어떤 확률분포를 따르는지 알아내고\n",
        "표본집단의 해당 확률분포의 모수 값을 구하는 작업 합니다.\n",
        "\n",
        "- 데이터가 0, 1뿐이면 -> 베르누이 분포\n",
        "- 데이터가 카테고리 값일 경우 -> 카테고리 분포\n",
        "- 데이터가 0과 1사이의 실수 값일 경우 -> 베타분포\n",
        "- 데이터가 항상 0이상일 경우 -> 로그정규분포, 감마분포, f분포, 카이제곱분포, 지수 등등\n",
        "- 데이터가 제한이없고 연속된 실수일 경우 -> 정규분포, 스튜던트 t-분포, 라플라스 분포 등등\n",
        "\n",
        "데이터의 특성을 알면 어떤 분포를 따를지 추측이 가능하다."
      ],
      "metadata": {
        "id": "8SG_SKloqpiL"
      }
    }
  ]
}