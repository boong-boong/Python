{
  "nbformat": 4,
  "nbformat_minor": 0,
  "metadata": {
    "colab": {
      "private_outputs": true,
      "provenance": [],
      "authorship_tag": "ABX9TyNL+tG2Yo+LB3H7VbzQf/cQ",
      "include_colab_link": true
    },
    "kernelspec": {
      "name": "python3",
      "display_name": "Python 3"
    },
    "language_info": {
      "name": "python"
    }
  },
  "cells": [
    {
      "cell_type": "markdown",
      "metadata": {
        "id": "view-in-github",
        "colab_type": "text"
      },
      "source": [
        "<a href=\"https://colab.research.google.com/github/jh868/Python/blob/main/DataScience/day5_2(%EC%B6%94%EC%A0%95).ipynb\" target=\"_parent\"><img src=\"https://colab.research.google.com/assets/colab-badge.svg\" alt=\"Open In Colab\"/></a>"
      ]
    },
    {
      "cell_type": "markdown",
      "source": [
        "# 확률분포의 추정\n",
        "데이터가 어떤 확률변수로부터 실현된 표본 가정\n",
        "\n",
        "확률변수의 분포를 알아내기 위한 작업\n",
        "\n",
        "1. 어떤 분포를 따르는지 알아낸다.\n",
        "2. 확률분포의 모수 값을 추정\n",
        "\n",
        "데이터의 형태, 값에 따라 분포를 예상할 수 있다.\n",
        "- 데이터가 0이나 1밖에 없으면 : 베르누이분포\n",
        "- 데이터가 카테고리 값 : 카테고리분포\n",
        "- 0과 1 사이의 실수 값 : 베타분포\n",
        "- 데이터가 0또는 양수 : 감마분포, 로그정규분포, F분포 등등\n",
        "- 데이터가 제한이 없는 실수 : 정규분포, T분포 등등\n"
      ],
      "metadata": {
        "id": "z4g2ZrA_ADxo"
      }
    },
    {
      "cell_type": "code",
      "source": [
        "!pip install koreanize-matplotlib\n",
        "import koreanize_matplotlib\n",
        "import warnings\n",
        "warnings.filterwarnings('ignore')"
      ],
      "metadata": {
        "id": "LFgAE_pXCLek"
      },
      "execution_count": null,
      "outputs": []
    },
    {
      "cell_type": "code",
      "source": [
        "from sklearn.datasets import load_boston\n",
        "import pandas as pd\n",
        "\n",
        "boston = load_boston()\n",
        "dfX = pd.DataFrame(boston.data, columns=boston.feature_names)\n",
        "dfy = pd.DataFrame(boston.target, columns=['MEDV'])\n",
        "df = pd.concat([dfX, dfy], axis=1)\n",
        "df.info()"
      ],
      "metadata": {
        "id": "7rGeTOTOCMgA"
      },
      "execution_count": null,
      "outputs": []
    },
    {
      "cell_type": "code",
      "source": [
        "import matplotlib.pyplot as plt\n",
        "df['CRIM'].hist()\n",
        "plt.show() "
      ],
      "metadata": {
        "id": "gnmVw7IWcg4j"
      },
      "execution_count": null,
      "outputs": []
    },
    {
      "cell_type": "code",
      "source": [
        "df['AGE'].hist()\n",
        "plt.show() "
      ],
      "metadata": {
        "id": "ns_s4XYxci8k"
      },
      "execution_count": null,
      "outputs": []
    },
    {
      "cell_type": "markdown",
      "source": [
        "## 모수 추정 방법\n",
        "어떤 모집단의 모수를 추정하는 작업\n",
        "- 모멘트 방법\n",
        "- 최대가능도 추정법\n",
        "- 베이즈 추정법"
      ],
      "metadata": {
        "id": "eoTxyM7ickea"
      }
    },
    {
      "cell_type": "markdown",
      "source": [
        "### 모멘트 방법\n",
        "표본자료에 대한 표본 모멘트가 모집단의 모멘트와 동일하다는 가정\n",
        "\n",
        "표본 모멘트를 통해서 모수를 추정\n",
        "\n",
        "$$μ= E[X]= \\hat{x} = \\frac{1}{N}\\Sigma_{i=1}^N{x_i}$$\n",
        "\n",
        "$$σ^2 = E[(X-μ)^2] = s^{-2}= \\frac{1}{N-1}\\Sigma_{i=1}^N(x_i-\\hat{x})^2$$"
      ],
      "metadata": {
        "id": "d6K0em-acnfk"
      }
    },
    {
      "cell_type": "markdown",
      "source": [
        "#### 베르누이 분포의 모수 추정\n",
        "$$E[X] = μ=\\hat{x}=\\frac{1}{N}\\Sigma_{i=1}^N x_i = \\frac{N_1}{N}$$\n",
        "\n",
        "\n",
        "#### 정규분포의 모수 추정\n",
        "$$E[X] = μ=\\hat{x} = \\frac{1}{N}\\Sigma_{i=i}^N x_i $$\n",
        "\n",
        "$$σ^2 = E[(X-μ)^2] = s^{-2}= \\frac{1}{N-1}\\Sigma_{i=1}^N(x_i-\\hat{x})^2$$\n",
        "\n",
        "#### 베타분포의 모수 추정\n",
        "$$ E[X] = \\frac{a}{a+b} = \\hat{x}$$\n",
        "$$ E[(X-μ)^2] = \\frac{ab}{(a+b)^2(a+b+1)}=s^2$$\n",
        "\n",
        "$$a = \\hat{x} \\left(\\frac{\\hat{x} ( 1-\\hat{x})}{s^2} - 1 \\right)$$\n",
        "$$b = (1-\\hat{x})\\left(\\frac{\\hat{x}(1 - \\hat{x})}{s^2}-1\\right)$$\n",
        "\n"
      ],
      "metadata": {
        "id": "oIuaW-A8cpkY"
      }
    },
    {
      "cell_type": "code",
      "source": [
        "import scipy as sp\n",
        "import scipy.stats\n",
        "import numpy as np\n",
        "import seaborn as sns\n",
        "np.random.seed(0)\n",
        "x = scipy.stats.beta(15, 12).rvs(10000)\n",
        "\n",
        "sns.distplot(x, kde=False, norm_hist=True)\n",
        "plt.grid()\n",
        "plt.show()"
      ],
      "metadata": {
        "id": "SkE4hAm2ctKV"
      },
      "execution_count": null,
      "outputs": []
    },
    {
      "cell_type": "code",
      "source": [
        "def estimate_beta(x):\n",
        "  x_bar = x.mean()\n",
        "  s2 = x.var()\n",
        "  a = x_bar*(x_bar*(1-x_bar)/s2-1)\n",
        "  b = (1 - x_bar)*(x_bar*(1-x_bar)/s2-1)\n",
        "  return a,b\n",
        "\n",
        "params = estimate_beta(x)\n",
        "print(params)"
      ],
      "metadata": {
        "id": "wsututPHcvcj"
      },
      "execution_count": null,
      "outputs": []
    },
    {
      "cell_type": "code",
      "source": [
        "xx = np.linspace(0, 1, 1000)\n",
        "sns.distplot(x, kde=False, norm_hist=True)\n",
        "plt.plot(xx, scipy.stats.beta(params[0], params[1]).pdf(xx))\n",
        "plt.xlim(0,1)\n",
        "plt.title('추정된 모수를 따르는 베타분포 확률 밀도 함수')\n",
        "plt.grid()\n",
        "plt.show()"
      ],
      "metadata": {
        "id": "5TBi8XBScxMI"
      },
      "execution_count": null,
      "outputs": []
    },
    {
      "cell_type": "code",
      "source": [
        "sns.distplot(x, kde=False, norm_hist=True, fit=scipy.stats.beta)\n",
        "plt.xlim(0,1)\n",
        "plt.title('베타분포를 따르는 표본의 히스토그램과 추정된 확률 밀도함수')\n",
        "plt.grid()\n",
        "plt.show()"
      ],
      "metadata": {
        "id": "WwBKETT3cy7K"
      },
      "execution_count": null,
      "outputs": []
    },
    {
      "cell_type": "code",
      "source": [
        "sns.distplot(x, kde=True, norm_hist=True)\n",
        "plt.xlim(0,1)\n",
        "plt.title('베타분포를 따르는 표본의 히스토그램과 추정된 확률 밀도함수')\n",
        "plt.grid()\n",
        "plt.show()"
      ],
      "metadata": {
        "id": "wZI03N57c03A"
      },
      "execution_count": null,
      "outputs": []
    },
    {
      "cell_type": "markdown",
      "source": [
        "### 최대 가능도 추정법\n",
        "모멘트 추정은 보장이 되지 않는다. 모수값일 확률이 보장이 되지 않음   \n",
        "최대 가능도 추정법 가장 가능성이 높은 모수를 찾는 방법   \n",
        "베르누이, 카테고리, 정규, 다변수정규 분포에 대해서 최대 가능도 추정을 이용하여 모수를 찾아보겠습니다.\n",
        "\n",
        "- 확률질량함수   \n",
        "$$p(x;θ)$$\n",
        "\n",
        "- 정규분포의 θ   \n",
        "$$θ = (μ, σ^2)$$\n",
        "\n",
        "- 베르누이 분포\n",
        "$$θ = μ$$\n",
        "\n",
        "- 이항분포\n",
        "$$θ=(N,μ)$$\n",
        "\n",
        "- 가능도함수(Likelihood function)\n",
        "$$L(θ;x) = p(x;θ)$$"
      ],
      "metadata": {
        "id": "Q-9Dw27gc2Xx"
      }
    },
    {
      "cell_type": "markdown",
      "source": [
        "#### 정규분포\n",
        "확률밀도함수\n",
        "$$p(x;μ_0,σ^2) = \\frac{1}{\\sqrt{2πσ^2}}exp\\left(-\\frac{(x-μ_0)^2}{2σ^2}\\right)$$\n",
        "\n",
        "$$L(μ,σ^2;x_0) = \\frac{1}{\\sqrt{2πσ^2}}exp\\left(-\\frac{(x_0-μ_0)^2}{2σ^2}\\right)$$"
      ],
      "metadata": {
        "id": "JVeqJv4TI64j"
      }
    },
    {
      "cell_type": "code",
      "source": [
        "def likelihood_mu(mu):\n",
        "  return scipy.stats.norm(loc=mu).pdf(0)\n",
        "\n",
        "mus = np.linspace(-5, 5, 1000)\n",
        "likelihood_mu = [likelihood_mu(m) for m in mus]\n",
        "\n",
        "plt.subplot(211)\n",
        "plt.plot(mus, likelihood_mu)\n",
        "plt.title('가능도 함수 x=0, \\sigma=1 \\mu')\n",
        "plt.xlabel('\\mu')\n",
        "plt.grid()\n",
        "plt.show()\n",
        "\n",
        "def likelihood_sigma2(sigma2):\n",
        "  return scipy.stats.norm(scale=np.sqrt(sigma2)).pdf(0)\n",
        "\n",
        "sigma2s = np.linspace(0.1, 10, 1000)\n",
        "likelihood_sigma2 = [likelihood_sigma2(m) for m in sigma2s]\n",
        "\n",
        "plt.subplot(212)\n",
        "plt.plot(sigma2s, likelihood_sigma2)\n",
        "plt.grid()\n",
        "plt.title('가능도 함수 mu=0, x=0 sigma')\n",
        "plt.show()"
      ],
      "metadata": {
        "id": "rsSxnoVOI9xi"
      },
      "execution_count": null,
      "outputs": []
    },
    {
      "cell_type": "code",
      "source": [
        "MU, SIGMA2 = np.meshgrid(mus, sigma2s)\n",
        "L = np.exp(-MU**2/(2*SIGMA2))/np.sqrt(2*np.pi*SIGMA2)\n",
        "fig = plt.figure()\n",
        "ax = fig.gca(projection='3d')\n",
        "ax.plot_surface(MU, SIGMA2, L, linewidth=0.1)\n",
        "plt.grid()\n",
        "plt.xlabel('mu')\n",
        "plt.ylabel('sigma')\n",
        "plt.title('가능도함수')\n",
        "plt.show()"
      ],
      "metadata": {
        "id": "2JajtPzkI_oh"
      },
      "execution_count": null,
      "outputs": []
    },
    {
      "cell_type": "markdown",
      "source": [
        "#### 베르누이 분포\n",
        "확률질량함수\n",
        "$$p(x;μ_0) = μ_0^x(1-μ_0)^{1-x}$$\n",
        "\n",
        "가능도 함수\n",
        "$$L(μ,x_0) = μ^{x_0}(1-μ)^{1-x_0}$$\n",
        "\n",
        "- x_0 : 변수집단\n",
        "- 0 <= \\mu <= 1"
      ],
      "metadata": {
        "id": "GhFh4tXhJqkz"
      }
    },
    {
      "cell_type": "markdown",
      "source": [
        "### 최대가능도 추정법\n",
        "Maximum Likelihood Estimation\n",
        "\n",
        "$$\\hat{θ}_{MLE} = argmax_θL(θ;x)$$"
      ],
      "metadata": {
        "id": "OEYqSCbpJxh_"
      }
    },
    {
      "cell_type": "code",
      "source": [
        "# x1=1 sigma=1\n",
        "x = np.linspace(-5,5,100)\n",
        "\n",
        "p1 = scipy.stats.norm(loc=-1).pdf(1)\n",
        "p2 = scipy.stats.norm(loc=0).pdf(1)\n",
        "p3 = scipy.stats.norm(loc=1).pdf(1)\n",
        "\n",
        "plt.scatter(1, p1, s=100, c='r', marker='v',label='x1:u : -1')\n",
        "plt.scatter(1, p2, s=100, c='b', marker='^',label='x1:u : 0')\n",
        "plt.scatter(1, p3, s=100, c='g', marker='s',label='x1:u : 1')\n",
        "\n",
        "plt.plot(x, scipy.stats.norm(loc=-1).pdf(x), ls='-.')\n",
        "plt.plot(x, scipy.stats.norm(loc=0).pdf(x), ls='--')\n",
        "plt.plot(x, scipy.stats.norm(loc=1).pdf(x), ls='-')\n",
        "\n",
        "plt.scatter(1, 0, s=100, c='k')\n",
        "plt.vlines(1, -0.09, 0.45, linestyle=':')\n",
        "plt.text(1-0.3, -0.15, 'x_1=1')\n",
        "\n",
        "plt.xlabel('x')\n",
        "plt.ylabel('확률밀도')\n",
        "plt.legend()\n",
        "plt.title('최대가능도 추정법')\n",
        "plt.grid()\n",
        "plt.show()\n",
        "print(-1,p1)\n",
        "print(0,p2)\n",
        "print(1, p3)"
      ],
      "metadata": {
        "id": "tHOU7oBfJ03M"
      },
      "execution_count": null,
      "outputs": []
    },
    {
      "cell_type": "markdown",
      "source": [
        "### 복수 표본 데이터의 가능도 함수\n",
        "\n",
        "표본이 여러개일 경우\n",
        "$$P_{{X_1}{X_2}{X_3}⋯{X_N}}(x1,x2,⋯,x_N;θ) = \\prod_{i=1}^Np(x_i;θ)$$"
      ],
      "metadata": {
        "id": "nAzz6KemJ3Tr"
      }
    },
    {
      "cell_type": "markdown",
      "source": [
        "정규분포로 {1, 0, -3} 주어졌을 때   \n",
        "$$L(θ;x_1,x_2,x_3)=\\mathcal{N}(x_1,x_2,x_3)$$\n",
        "$$L(μ,σ^2;x_0) = \\frac{1}{\\sqrt{2πσ^2}}exp\\left(-\\frac{(x_0-μ_0)^2}{2σ^2}\\right)$$\n",
        "\n",
        "$$ = \\frac{1}{(2πσ^2)^\\frac{3}{2}}exp\\left(-\\frac{3(μ+\\frac{2}{3})^2 + \\frac{36}{3}}{2σ^2}\\right)$$\n",
        "\n",
        "$$\\hat{μ}_{MLE} = -\\frac{2}{3}$$"
      ],
      "metadata": {
        "id": "Dx3A8UueJ_i5"
      }
    },
    {
      "cell_type": "code",
      "source": [
        "mu = np.linspace(-3, 3, 1000)\n",
        "sigma2 = 1\n",
        "def likelihood(mu):\n",
        "  return (2*np.pi*sigma2)**(3/2)*np.exp(-(3*mu**2+4*mu+10)/(2*sigma2))\n",
        "\n",
        "li = likelihood(mu)\n",
        "plt.plot(mu, li)\n",
        "plt.vlines(-2/3, 0, 0.25, linestyles=\":\")\n",
        "plt.xlabel('mu')\n",
        "plt.title('데이터가 1,0,-3인 표본 데이터의 정규분포 함수의 가능도 함수')\n",
        "plt.grid()\n",
        "plt.show()"
      ],
      "metadata": {
        "id": "NaRcs1UzKA1M"
      },
      "execution_count": null,
      "outputs": []
    },
    {
      "cell_type": "markdown",
      "source": [
        "### 베르누이분포\n",
        "표본집단이 {1,0,1}일 때\n",
        "$$L(μ;x1=1,x2=0,x3=1)$$\n",
        "$$L(μ,x_0) = μ^{x_0}(1-μ)^{1-x_0}$$\n",
        "$$μ^1(1-μ)^{1-1}μ^0(1-μ)^{1-0}μ^1(1-μ)^{1-1}$$\n",
        "$$=-μ^3+\\mu^2$$"
      ],
      "metadata": {
        "id": "Q2SGFZDpKCre"
      }
    },
    {
      "cell_type": "markdown",
      "source": [
        "### 카테고리분포 최대 가능도 모수 추정\n",
        "\n",
        "$$\\mu = (\\mu_1,⋯,\\mu_k)$$\n",
        "$$L(μ_1,⋯,\\mu_K; x_1,⋯,x_N)=\\prod_{i=1}^N \\prod_{k=1}^K \\mu_k^{x_{i,k}}$$\n",
        "\n",
        "1. 미분을 할 수 있게 로그\n",
        "2. 미분 값이 0이 되는 값 도출\n",
        "\n",
        "$$μ_k = \\frac{N_K}{N}$$\n",
        "\n",
        "최대 가능도 추정법에 의한 카테고리 분포의 모수는 각 범주 값이 나온 횟수와 시행횟수의 비율"
      ],
      "metadata": {
        "id": "vj1NymAqKFtU"
      }
    },
    {
      "cell_type": "markdown",
      "source": [
        "### 정규분포 최대 가능도 모수 추정\n",
        "$$\\mu=\\frac{1}{N}Σx_i=\\bar{x}$$\n",
        "$$σ^2=s^2$$\n",
        "$$s^2 = \\frac{1}{N}\\Sigma{(x-\\bar{x})^2}$$\n",
        "\n",
        "최대가능도 추정법에 의한 정규분포의 기댓값은 표본평균과 같다.\n",
        "\n",
        "분산은 표본분산과 같다."
      ],
      "metadata": {
        "id": "tdmHWFMoKIv2"
      }
    },
    {
      "cell_type": "markdown",
      "source": [
        "### 베이즈 추정법"
      ],
      "metadata": {
        "id": "TAazIaQ1KMIF"
      }
    },
    {
      "cell_type": "markdown",
      "source": [
        "베이즈 추정법은 주어진 데이터\n",
        "$$X = {x_1,⋯x_N}$$\n",
        "모수의 조건부 확률분포를 계산하는 작업\n",
        "$$p(μ|x_1,⋯,x_N)$$   \n",
        "$$p(μ|x_1,⋯,x_N) = \\frac{p(x_1,⋯,x_N|μ)⋅p(\\mu)}{p(x1,⋯,x_N)}=p(x_1,⋯,x_N|μ)⋅p(\\mu)$$\n",
        "\n",
        "- $p(μ|x_1,⋯,x_N)$ : 표본 x가 나왔을 때 μ의 분포   \n",
        "- $p(x_1,⋯,x_N|μ)$ : 가능도 분포(모수가 주어졌을 때 X가 나올 확률)   \n",
        "- $p(\\mu)$ : 사전분포(아무런 정보가 없을 경우 Beta(1,1)인 균일 분포 혹은 평균이 0인 정규분포를 사용할 수 있다.)"
      ],
      "metadata": {
        "id": "4isv45KcKTYJ"
      }
    },
    {
      "cell_type": "markdown",
      "source": [
        "- 모수적방법(Parametric)\n",
        "      다른 확률분포를 활용하여 모수의 분포를 나타내는 방법\n",
        "      모수의 확률분포함수의 모수를 구하는 방법(hyper-parameter)\n",
        "\n",
        "- 비모수적방법(Non-Parametric)\n",
        "      모수의 분포와 동일한 분포를 가지는 표본집단을 통해 히스토그램, 최빈값을 활용해서 분포를 표현"
      ],
      "metadata": {
        "id": "JAilZS_AKV_f"
      }
    },
    {
      "cell_type": "markdown",
      "source": [
        "### 베르누이 분포의 모수 추정\n",
        "\n",
        "$$p(\\mu)=\\mu^{a-1}(a-\\mu)^{b-1} \\quad (a=1, b=1)$$\n",
        "$$p(x_1,⋯,x_N|μ) = \\prod_{i=1}^N\\mu^{x_i}(1-\\mu)^{1-x_i}$$\n",
        "\n",
        "$$p(μ|x_1,⋯,x_N) = p(x_1,⋯,x_N|μ)p(μ)$$\n",
        "$$ = \\prod_{i=1}^N\\mu^{x_i}(1-\\mu)^{1-x_i}⋅\\mu^{a-1}(a-\\mu)^{b-1}$$\n",
        "$$ = \\mu^{N_1+a-1}(1-\\mu)^{Σ(1-x_i)+b-1}$$\n",
        "$$ = μ^{N1+a-1}(1-μ)^{N_0+b-1}$$\n",
        "$$ = μ^{a'-1}(1-μ)^{b'-1}$$\n",
        "\n",
        "$$ a' = N_1+a$$\n",
        "$$ b' = N_0+b$$"
      ],
      "metadata": {
        "id": "nsSqas7SKZKO"
      }
    },
    {
      "cell_type": "code",
      "source": [
        "# mu = 0.6\n",
        "# X = {1,1,1,1,1,1,0,0,0,0}\n",
        "xx = np.linspace(0,1,1000)\n",
        "a0 = 1\n",
        "b0 = 1\n",
        "plt.plot(xx, scipy.stats.beta(a0,b0).pdf(xx), label='사전분포')\n",
        "a1, b1 = 7,5\n",
        "plt.plot(xx, scipy.stats.beta(a1,b1).pdf(xx), label='사후분포')\n",
        "plt.title('베이즈 추정법으로 계산한 베르누이 분포의 모수의 분포')\n",
        "plt.legend()\n",
        "plt.grid()\n",
        "plt.show()"
      ],
      "metadata": {
        "id": "GYZ3QTlhKcYQ"
      },
      "execution_count": null,
      "outputs": []
    },
    {
      "cell_type": "code",
      "source": [
        "mu0 = 0.65\n",
        "a,b = 1, 1\n",
        "print('초기 추정 : 모드 = 모름')\n",
        "\n",
        "xx = np.linspace(0, 1, 1000)\n",
        "plt.plot(xx, scipy.stats.beta(a,b).pdf(xx), label='초기 추정')\n",
        "\n",
        "np.random.seed(0)\n",
        "\n",
        "for i in range(3):\n",
        "  x = scipy.stats.bernoulli(mu0).rvs(50)\n",
        "  N0, N1 = np.bincount(x, minlength=2)\n",
        "  a, b = a + N1, b + N0\n",
        "  plt.plot(xx, scipy.stats.beta(a,b).pdf(xx), label=f'{i+1}차 추정')\n",
        "\n",
        "plt.vlines(0.65, ymin=0, ymax=30)\n",
        "plt.ylim(0,30)\n",
        "plt.legend()\n",
        "plt.title('베르누이 분포의 모수를 베이즈 추정법으로 추정한 결과')\n",
        "plt.show()"
      ],
      "metadata": {
        "id": "oam54q0bKhBx"
      },
      "execution_count": null,
      "outputs": []
    },
    {
      "cell_type": "markdown",
      "source": [
        "### 카테고리 분포의 모수 추정\n",
        "\n",
        "카테고리 갯수가 K개인 모수 μ추정   \n",
        "카테고리 분포의 모수의 각 원소는 0 ~ 1의 값을 가짐\n",
        "\n",
        "$$p(μ) = \\prod_{k=1}^K{μ_k}^{a_k-1}$$   \n",
        "$$p(x_1,⋯,x_N|μ) = \\prod_{i=1}^N\\prod_{k=1}^K{μ_k}^{x_{i,k}}$$   \n",
        "$$p(μ|x_1,⋯,x_N) = p(x_1,⋯,x_N|μ)p(μ) = \\prod_{i=1}^N\\prod_{k=1}^K{μ_k}^{x_{i,k}}⋅\\prod_{k=1}^K{μ_k}^{a_k-1}$$   \n",
        "$$ = \\prod_{k=1}^Kμ^{\\Sigma_{i=1}^N{x_i,k}+a_k - 1} = \\prod_{k=1}^Kμ^{N_k+a_k-1}$$   \n",
        "$$ = \\prod_{k=1}^Kμ^{a'_k-1}$$   \n",
        "\n",
        "$$a'_k = N_k + a_k$$"
      ],
      "metadata": {
        "id": "YOEwqAUUKjUH"
      }
    },
    {
      "cell_type": "code",
      "source": [
        "def plot_dirichlet(alpha, n):\n",
        "    def project(x):\n",
        "        n1 = np.array([1, 0, 0])\n",
        "        n2 = np.array([0, 1, 0])\n",
        "        n3 = np.array([0, 0, 1])\n",
        "        n12 = (n1 + n2)/2\n",
        "        m1 = np.array([1, -1, 0])\n",
        "        m2 = n3 - n12\n",
        "        m1 = m1/np.linalg.norm(m1)\n",
        "        m2 = m2/np.linalg.norm(m2)\n",
        "        return np.dstack([(x-n12).dot(m1), (x-n12).dot(m2)])[0]\n",
        "\n",
        "    def project_reverse(x):\n",
        "        n1 = np.array([1, 0, 0])\n",
        "        n2 = np.array([0, 1, 0])\n",
        "        n3 = np.array([0, 0, 1])\n",
        "        n12 = (n1 + n2)/2\n",
        "        m1 = np.array([1, -1, 0])\n",
        "        m2 = n3 - n12\n",
        "        m1 = m1/np.linalg.norm(m1)\n",
        "        m2 = m2/np.linalg.norm(m2)\n",
        "        return x[:, 0][:, np.newaxis] * m1 + x[:, 1][:, np.newaxis] * m2 + n12\n",
        "\n",
        "    eps = np.finfo(float).eps * 10\n",
        "    X = project([[1-eps, 0, 0], [0, 1-eps, 0], [0, 0, 1-eps]])\n",
        "\n",
        "    import matplotlib.tri as mtri\n",
        "\n",
        "    triang = mtri.Triangulation(X[:, 0], X[:, 1], [[0, 1, 2]])\n",
        "    refiner = mtri.UniformTriRefiner(triang)\n",
        "    triang2 = refiner.refine_triangulation(subdiv=6)\n",
        "    XYZ = project_reverse(\n",
        "        np.dstack([triang2.x, triang2.y, 1-triang2.x-triang2.y])[0])\n",
        "\n",
        "    pdf = sp.stats.dirichlet(alpha).pdf(XYZ.T)\n",
        "    plt.tricontourf(triang2, pdf, cmap=plt.cm.bone_r)\n",
        "    plt.axis(\"equal\")\n",
        "    plt.title(\"정규분포 확률변수의 모수를 베이즈 추정법으로 추정한 결과: {} 추정\".format(n))\n",
        "    plt.show()\n",
        "\n",
        "mu0 = np.array([0.3, 0.5, 0.2])\n",
        "\n",
        "np.random.seed(0)\n"
      ],
      "metadata": {
        "id": "Fkc4TSK4Kmjg"
      },
      "execution_count": null,
      "outputs": []
    },
    {
      "cell_type": "code",
      "source": [
        "a0 = np.ones(3)  # [1,1,1]\n",
        "plot_dirichlet(a0, '초기')"
      ],
      "metadata": {
        "id": "kEs9PfwaLsJC"
      },
      "execution_count": null,
      "outputs": []
    },
    {
      "cell_type": "code",
      "source": [
        "x1 = np.random.choice(3, 50, p=mu0)\n",
        "N1 = np.bincount(x1, minlength=3)\n",
        "a1 = a0 + N1\n",
        "\n",
        "print(f'카테고리 수 N1={N1}')\n",
        "print(f'하이퍼 모수 a : {(a1-1)/(a1.sum()-3)}')\n",
        "\n",
        "plot_dirichlet(a1, '1차')"
      ],
      "metadata": {
        "id": "v3Lqk1AhPcbS"
      },
      "execution_count": null,
      "outputs": []
    },
    {
      "cell_type": "code",
      "source": [
        "x2 = np.random.choice(3, 50, p=mu0)\n",
        "N2 = np.bincount(x2, minlength=3)\n",
        "a2 = a1 + N2\n",
        "\n",
        "print(f'카테고리 수 N2={N2}')\n",
        "print(f'하이퍼 모수 a : {(a2-1)/(a2.sum()-3)}')\n",
        "\n",
        "plot_dirichlet(a2, '2차')"
      ],
      "metadata": {
        "id": "hXpiOcwXRWgT"
      },
      "execution_count": null,
      "outputs": []
    },
    {
      "cell_type": "code",
      "source": [
        "x3 = np.random.choice(3, 100, p=mu0)\n",
        "N3 = np.bincount(x3, minlength=3)\n",
        "a3 = a2 + N3\n",
        "\n",
        "print(f'카테고리 수 N2={N3}')\n",
        "print(f'하이퍼 모수 a : {(a3-1)/(a3.sum()-3)}')\n",
        "\n",
        "plot_dirichlet(a3, '2차')"
      ],
      "metadata": {
        "id": "nquLgdH0RYU7"
      },
      "execution_count": null,
      "outputs": []
    },
    {
      "cell_type": "markdown",
      "source": [
        "### 정규 분포 모수 추정\n",
        "\n",
        "$$p(μ) = N(μ_0, σ_0^2) = \\frac{1}{\\sqrt{2πσ^2}}exp\\left(-\\frac{(μ-μ_0)^2}{2σ^2}\\right)$$\n",
        "\n",
        "$$p(x_1,⋯,x_N|μ) = \\prod_{i=1}^NN(x_i|μ) = \\prod_{i=1}^N\\frac{1}{\\sqrt{2πσ^2}}exp\\left(-\\frac{(x_i-μ_0)^2}{2σ^2}\\right)$$\n",
        "\n",
        "$$p(μ|x_1,⋯,x_N) = p(x_1,⋯,x_N|μ)p(μ) =$$\n",
        "\n",
        "\n",
        "$$\\exp \\left(-\\dfrac{(\\mu-\\mu'_0)^2}{2\\sigma_0^{'2}}\\right)$$\n",
        "\n",
        "\n",
        "$$\\mu'_0= \\frac{σ^2}{Nσ_0^2+σ^2}μ_0 + \\frac{Nσ_0^2}{Nσ_0^2+σ^2}\\frac{\n",
        "  Σx_i}{N}$$\n",
        "\n",
        "$$ \\frac{1}{{σ'_0}^2} = \\frac{1}{σ_0^2} + \\frac{N}{σ^2}$$"
      ],
      "metadata": {
        "id": "svc6BxyzRaL2"
      }
    },
    {
      "cell_type": "code",
      "source": [
        "mu, sigma2 = 2,4\n",
        "mu0, sigma20 = 0,1\n",
        "xx = np.linspace(1.8,2.2, 1000)\n",
        "np.random.seed(1)\n",
        "N = 500\n",
        "\n",
        "for i in range(5):\n",
        "  x = scipy.stats.norm(mu).rvs(N)\n",
        "  mu0 = sigma2/(N*sigma20 + sigma2)*mu0 + (N*sigma20)/(N*sigma20 + sigma2)*x.mean()\n",
        "  sigma20 = 1/(1/sigma20 + N/sigma2)\n",
        "  plt.plot(xx, scipy.stats.norm(mu0, sigma20).pdf(xx), label=f'{i+1}차 추정')\n",
        "plt.legend()\n",
        "plt.grid()\n",
        "plt.title('정규분포의 기댓값 베이즈 추정법으로 추정')\n",
        "plt.show()"
      ],
      "metadata": {
        "id": "BUzh6M5CSTIG"
      },
      "execution_count": null,
      "outputs": []
    },
    {
      "cell_type": "code",
      "source": [],
      "metadata": {
        "id": "-4YoTRomuZFR"
      },
      "execution_count": null,
      "outputs": []
    }
  ]
}