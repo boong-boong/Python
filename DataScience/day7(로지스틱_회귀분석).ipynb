{
  "nbformat": 4,
  "nbformat_minor": 0,
  "metadata": {
    "colab": {
      "private_outputs": true,
      "provenance": [],
      "authorship_tag": "ABX9TyOerLRn7bLekjuyEWalLjD4",
      "include_colab_link": true
    },
    "kernelspec": {
      "name": "python3",
      "display_name": "Python 3"
    },
    "language_info": {
      "name": "python"
    }
  },
  "cells": [
    {
      "cell_type": "markdown",
      "metadata": {
        "id": "view-in-github",
        "colab_type": "text"
      },
      "source": [
        "<a href=\"https://colab.research.google.com/github/jh868/Python/blob/main/DataScience/day7(%EB%A1%9C%EC%A7%80%EC%8A%A4%ED%8B%B1_%ED%9A%8C%EA%B7%80%EB%B6%84%EC%84%9D).ipynb\" target=\"_parent\"><img src=\"https://colab.research.google.com/assets/colab-badge.svg\" alt=\"Open In Colab\"/></a>"
      ]
    },
    {
      "cell_type": "code",
      "execution_count": null,
      "metadata": {
        "id": "54U8rEhC2aw2"
      },
      "outputs": [],
      "source": [
        "!pip install koreanize-matplotlib\n",
        "import koreanize_matplotlib"
      ]
    },
    {
      "cell_type": "markdown",
      "source": [
        "# 로지스틱 회귀분석\n",
        "종속변수가 0이나 1을 가지는 이항분포를 이며 모수μ 가 독립변수에 의존한다고 가정   \n",
        "종속변수 y는 0,1 값\n",
        "$$\\hat{y} = μ(x)$$\n",
        "$$y =0 \\quad if \\quad \\mu(x) <0.5$$\n",
        "$$y =1 \\quad if \\quad \\mu(x) >=0.5$$"
      ],
      "metadata": {
        "id": "HkhO0G-_NUVQ"
      }
    },
    {
      "cell_type": "markdown",
      "source": [
        "## 시그모이드(Sigmoid)\n",
        "- (a,b)사이의 값을 가지는 함수 a < f(x) < b\n",
        "- 항상 양의 기울기를 가지는 함수 if a > b -> f(a) > f(b)\n",
        "- 종류\n",
        "  - 로지스틱 함수\n",
        "$$logistic(z) = σ(x) = \\frac{1}{1+exp(-z)}$$\n",
        "  - 하이퍼볼릭탄젠트\n",
        "  - 오차함수"
      ],
      "metadata": {
        "id": "992J-8mQNWba"
      }
    },
    {
      "cell_type": "code",
      "source": [
        "import numpy as np\n",
        "import matplotlib.pyplot as plt\n",
        "import scipy as sp\n",
        "from scipy import special\n",
        "\n",
        "xx = np.linspace(-5, 5, 1000)\n",
        "plt.plot(xx, 1/(1+np.exp(-xx)), 'r-', label='로지스틱함수')\n",
        "plt.plot(xx, sp.special.erf(0.5*np.sqrt(np.pi)**xx), 'g:', label='오차함수')\n",
        "plt.plot(xx, np.tanh(xx), 'b--', label='하이퍼볼릭탄젠트함수')\n",
        "plt.ylim([-1.2,1.1])\n",
        "plt.legend()\n",
        "plt.xlabel('x')\n",
        "plt.grid()\n",
        "plt.show()"
      ],
      "metadata": {
        "id": "hSOVmOC7NY2R"
      },
      "execution_count": null,
      "outputs": []
    },
    {
      "cell_type": "markdown",
      "source": [
        "### 로지스틱함수\n",
        "베르누이 분포의 1이 나올 확률 μ와 (1-μ)의 비율\n",
        "$$odds ratio = \\frac{μ}{1-μ}$$"
      ],
      "metadata": {
        "id": "oIZH7HytNahl"
      }
    },
    {
      "cell_type": "markdown",
      "source": [
        "로지스틱 회귀분석은 w가 모수"
      ],
      "metadata": {
        "id": "_JKhvgXWNfhN"
      }
    },
    {
      "cell_type": "code",
      "source": [
        "from sklearn.datasets import make_classification\n",
        "import seaborn as sns\n",
        "\n",
        "X0, y = make_classification(n_features=1, n_redundant=0, n_informative=1, n_clusters_per_class=1, random_state=4)\n",
        "plt.scatter(X0, y, c=y, s=100, edgecolors='k', linewidth=2)\n",
        "sns.distplot(X0[y==0,:], label='y = 0', hist=False)\n",
        "sns.distplot(X0[y==1,:], label='y = 1', hist=False)\n",
        "plt.ylim(-0.2, 1.2)\n",
        "plt.legend()\n",
        "plt.grid()\n",
        "plt.show()"
      ],
      "metadata": {
        "id": "4qqDDCTNNmVf"
      },
      "execution_count": null,
      "outputs": []
    },
    {
      "cell_type": "code",
      "source": [
        "import statsmodels.api as sm\n",
        "X = sm.add_constant(X0)\n",
        "logit_mod = sm.Logit(y, X)\n",
        "logit_res = logit_mod.fit(disp=0)\n",
        "print(logit_res.summary())"
      ],
      "metadata": {
        "id": "L3KXAUSgNoVd"
      },
      "execution_count": null,
      "outputs": []
    },
    {
      "cell_type": "code",
      "source": [
        "xx = np.linspace(-3, 3, 100)\n",
        "mu = logit_res.predict(sm.add_constant(xx))\n",
        "plt.scatter(X0, y, c=y, s=100, edgecolors='k', linewidth=2)\n",
        "plt.scatter(X0, logit_res.predict(X), label='예측값', marker='s', c=y, s=100, edgecolor='k', lw=1)\n",
        "plt.plot(xx, mu, lw=3)\n",
        "plt.legend()\n",
        "plt.grid()"
      ],
      "metadata": {
        "id": "jE46lbXlNqjP"
      },
      "execution_count": null,
      "outputs": []
    },
    {
      "cell_type": "code",
      "source": [
        "plt.scatter(X0, y, c=y, s=100, edgecolor='k', lw=2, label='데이터')\n",
        "plt.plot(X0, logit_res.fittedvalues*0.1, label='판별함수값')\n",
        "plt.legend()\n",
        "plt.grid()\n",
        "plt.show()"
      ],
      "metadata": {
        "id": "wdsg07xKNsMn"
      },
      "execution_count": null,
      "outputs": []
    },
    {
      "cell_type": "markdown",
      "source": [
        "예제\n",
        "미국 의대생 입학관련 데이터.\n",
        "- Acceptance : 0이면 불합격, 1이면 합격\n",
        "- BCPM: Bio/Chem/Physics/Math 과목의 평균\n",
        "- GPG : 전체과목의 학점 평균\n",
        "- VR : MCAT Verbal reasoning 과목 점수\n",
        "- PS : MCAT Physical sciences 과목 점수\n",
        "- WS : MCAT Writing sample 과목 점수\n",
        "- BS : MCAT Biological sciences 과목 점수\n",
        "- MCAT :MCAT 총점\n",
        "- Apps : 의대 지원 횟수"
      ],
      "metadata": {
        "id": "z_p4zmsLNthr"
      }
    },
    {
      "cell_type": "code",
      "source": [
        "data_med = sm.datasets.get_rdataset('MedGPA', package='Stat2Data')\n",
        "df_med = data_med.data\n",
        "df_med.tail()"
      ],
      "metadata": {
        "id": "dfZk5DQVNv8D"
      },
      "execution_count": null,
      "outputs": []
    },
    {
      "cell_type": "code",
      "source": [
        "sns.stripplot(x='GPA', y='Acceptance', data=df_med, jitter=True, orient='h', order=[1,0])\n",
        "# plt.scatter(df_med.GPA, df_med.Acceptance)\n",
        "plt.grid(True)\n",
        "plt.show()"
      ],
      "metadata": {
        "id": "l7xKkbs0Nxoa"
      },
      "execution_count": null,
      "outputs": []
    },
    {
      "cell_type": "code",
      "source": [
        "model_med = sm.Logit.from_formula('Acceptance ~ Sex + BCPM + GPA + VR + PS + WS + BS + Apps', df_med)\n",
        "result_med = model_med.fit()\n",
        "print(result_med.summary())"
      ],
      "metadata": {
        "id": "UflZfNY8NzIS"
      },
      "execution_count": null,
      "outputs": []
    },
    {
      "cell_type": "code",
      "source": [
        "prediction = result_med.predict(df_med)"
      ],
      "metadata": {
        "id": "ozizwxqkN0uo"
      },
      "execution_count": null,
      "outputs": []
    },
    {
      "cell_type": "code",
      "source": [
        "df_med['prediction'] = prediction"
      ],
      "metadata": {
        "id": "I7EUs0P8N2Pu"
      },
      "execution_count": null,
      "outputs": []
    },
    {
      "cell_type": "code",
      "source": [
        "df_med"
      ],
      "metadata": {
        "id": "-qk0Eqk-N37e"
      },
      "execution_count": null,
      "outputs": []
    },
    {
      "cell_type": "code",
      "source": [],
      "metadata": {
        "id": "N22VXlZeN5hP"
      },
      "execution_count": null,
      "outputs": []
    }
  ]
}