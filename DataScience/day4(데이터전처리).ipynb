{
  "nbformat": 4,
  "nbformat_minor": 0,
  "metadata": {
    "colab": {
      "private_outputs": true,
      "provenance": [],
      "authorship_tag": "ABX9TyPRKmEXPTk4zy2Kifp1hrO8",
      "include_colab_link": true
    },
    "kernelspec": {
      "name": "python3",
      "display_name": "Python 3"
    },
    "language_info": {
      "name": "python"
    }
  },
  "cells": [
    {
      "cell_type": "markdown",
      "metadata": {
        "id": "view-in-github",
        "colab_type": "text"
      },
      "source": [
        "<a href=\"https://colab.research.google.com/github/jh868/Python/blob/main/DataScience/day4(%EB%8D%B0%EC%9D%B4%ED%84%B0%EC%A0%84%EC%B2%98%EB%A6%AC).ipynb\" target=\"_parent\"><img src=\"https://colab.research.google.com/assets/colab-badge.svg\" alt=\"Open In Colab\"/></a>"
      ]
    },
    {
      "cell_type": "markdown",
      "source": [
        "## 데이터 전처리"
      ],
      "metadata": {
        "id": "O6o06MjIGGpJ"
      }
    },
    {
      "cell_type": "code",
      "source": [
        "!pip install koreanize-matplotlib"
      ],
      "metadata": {
        "id": "etqD0ufpGlVm"
      },
      "execution_count": null,
      "outputs": []
    },
    {
      "cell_type": "code",
      "source": [
        "import pandas as pd\n",
        "import numpy as np\n",
        "import scipy as sp\n",
        "import matplotlib.pyplot as plt\n",
        "import koreanize_matplotlib as mpl\n",
        "import seaborn as sns\n",
        "import missingno as msno"
      ],
      "metadata": {
        "id": "_-5PcUEXHAZz"
      },
      "execution_count": null,
      "outputs": []
    },
    {
      "cell_type": "code",
      "source": [
        "%%writefile sample.csv\n",
        "x1,x2,x3,x4,x5\n",
        ",a,0.1,철수,2022-11-24\n",
        ",b,0.2,영희,\n",
        "3,c,0.3,,2022-11-26\n",
        "4,d,0.4,은희,2022-11-27\n",
        "5,,0.5,지우,2022-11-28\n",
        "6,f,0.6,이슬,2022-11-29"
      ],
      "metadata": {
        "id": "X15qSV0hGlcn"
      },
      "execution_count": null,
      "outputs": []
    },
    {
      "cell_type": "code",
      "source": [
        "df = pd.read_csv('sample.csv')\n",
        "df"
      ],
      "metadata": {
        "id": "oE_QQs9SHYw6"
      },
      "execution_count": null,
      "outputs": []
    },
    {
      "cell_type": "code",
      "source": [
        "df.isnull()"
      ],
      "metadata": {
        "id": "fm1jyAC0HchK"
      },
      "execution_count": null,
      "outputs": []
    },
    {
      "cell_type": "code",
      "source": [
        "df.isnull().sum()"
      ],
      "metadata": {
        "id": "1ZlSGIUSHePx"
      },
      "execution_count": null,
      "outputs": []
    },
    {
      "cell_type": "code",
      "source": [
        "msno.matrix(df)"
      ],
      "metadata": {
        "id": "3SXTFpXxHgLP"
      },
      "execution_count": null,
      "outputs": []
    },
    {
      "cell_type": "code",
      "source": [
        "msno.bar(df)"
      ],
      "metadata": {
        "id": "9qPdd95AHlcQ"
      },
      "execution_count": null,
      "outputs": []
    },
    {
      "cell_type": "code",
      "source": [
        "titanic = sns.load_dataset('titanic')\n",
        "titanic.head()"
      ],
      "metadata": {
        "id": "Kfunf69ZHndM"
      },
      "execution_count": null,
      "outputs": []
    },
    {
      "cell_type": "code",
      "source": [
        "titanic.info()"
      ],
      "metadata": {
        "id": "lyUPZ1ufIRdm"
      },
      "execution_count": null,
      "outputs": []
    },
    {
      "cell_type": "code",
      "source": [
        "msno.matrix(titanic)"
      ],
      "metadata": {
        "id": "mYQxBjzTIUIS"
      },
      "execution_count": null,
      "outputs": []
    },
    {
      "cell_type": "code",
      "source": [
        "msno.bar(titanic)"
      ],
      "metadata": {
        "id": "AeFF9azAIYYm"
      },
      "execution_count": null,
      "outputs": []
    },
    {
      "cell_type": "code",
      "source": [
        "df.dropna()"
      ],
      "metadata": {
        "id": "4Jv_GvfNIdpb"
      },
      "execution_count": null,
      "outputs": []
    },
    {
      "cell_type": "code",
      "source": [
        "df"
      ],
      "metadata": {
        "id": "IXw7zlwLJOhG"
      },
      "execution_count": null,
      "outputs": []
    },
    {
      "cell_type": "code",
      "source": [
        "df.dropna(axis=1)"
      ],
      "metadata": {
        "id": "nONgV7Z5JXQs"
      },
      "execution_count": null,
      "outputs": []
    },
    {
      "cell_type": "code",
      "source": [
        "df.dropna(thresh=5) # 데이터가 5개가 아닌경우 제거"
      ],
      "metadata": {
        "id": "Q5nRiDuMJZ4Q"
      },
      "execution_count": null,
      "outputs": []
    },
    {
      "cell_type": "code",
      "source": [
        "df.dropna(thresh=4)"
      ],
      "metadata": {
        "id": "-MddlK5gJjIN"
      },
      "execution_count": null,
      "outputs": []
    },
    {
      "cell_type": "code",
      "source": [
        "titanic.isnull().sum()"
      ],
      "metadata": {
        "id": "jg0LUsyZJmVr"
      },
      "execution_count": null,
      "outputs": []
    },
    {
      "cell_type": "code",
      "source": [
        "len(titanic)"
      ],
      "metadata": {
        "id": "X8b2SMFdJ-1y"
      },
      "execution_count": null,
      "outputs": []
    },
    {
      "cell_type": "code",
      "source": [
        "titanic = titanic.dropna(thresh=len(titanic)//2, axis=1) # 데이터가 절반이 안되는거 제거 (deck 제거)\n",
        "titanic"
      ],
      "metadata": {
        "id": "kBX9VpqDKDuK"
      },
      "execution_count": null,
      "outputs": []
    },
    {
      "cell_type": "code",
      "source": [
        "msno.matrix(titanic)"
      ],
      "metadata": {
        "id": "E06WeICLKtTe"
      },
      "execution_count": null,
      "outputs": []
    },
    {
      "cell_type": "code",
      "source": [
        "from sklearn.impute import SimpleImputer\n",
        "\n",
        "'''\n",
        "strategy 종류\n",
        "mean : 평균\n",
        "median : 중앙값\n",
        "most_frequent : 최빈값\n",
        "'''\n",
        "imputer = SimpleImputer(strategy='most_frequent')\n",
        "df = pd.DataFrame(imputer.fit_transform(df), columns=df.columns)\n",
        "df"
      ],
      "metadata": {
        "id": "wVx4-FcDK7t8"
      },
      "execution_count": null,
      "outputs": []
    },
    {
      "cell_type": "code",
      "source": [
        "sns.countplot(titanic.embark_town)\n",
        "plt.title('titanic embark_town 데이터')"
      ],
      "metadata": {
        "id": "8pw7YfCWL8gG"
      },
      "execution_count": null,
      "outputs": []
    },
    {
      "cell_type": "code",
      "source": [
        "imputer_embark_town = SimpleImputer(strategy='most_frequent')\n",
        "titanic['embark_town'] = imputer_embark_town.fit_transform(titanic[['embark_town']])\n",
        "titanic['embarked'] = imputer_embark_town.fit_transform(titanic[['embarked']])"
      ],
      "metadata": {
        "id": "A1--XyKZM0So"
      },
      "execution_count": null,
      "outputs": []
    },
    {
      "cell_type": "code",
      "source": [
        "msno.matrix(titanic)"
      ],
      "metadata": {
        "id": "c0Tm-bogNp7l"
      },
      "execution_count": null,
      "outputs": []
    },
    {
      "cell_type": "code",
      "source": [
        "sns.kdeplot(titanic.age)\n",
        "plt.title('나이 분포')\n",
        "plt.grid()\n",
        "plt.show()"
      ],
      "metadata": {
        "id": "CkMJGXxuNsyW"
      },
      "execution_count": null,
      "outputs": []
    },
    {
      "cell_type": "code",
      "source": [
        "imputer_age = SimpleImputer(strategy='median')\n",
        "titanic['age'] = imputer_age.fit_transform(titanic[['age']])\n",
        "\n",
        "msno.matrix(titanic)\n",
        "plt.show()"
      ],
      "metadata": {
        "id": "fhRk95KQOWDf"
      },
      "execution_count": null,
      "outputs": []
    },
    {
      "cell_type": "code",
      "source": [
        "titanic['none_string'] = titanic['embark_town']"
      ],
      "metadata": {
        "id": "r4kqXhmsO26e"
      },
      "execution_count": null,
      "outputs": []
    },
    {
      "cell_type": "code",
      "source": [
        "titanic.head()"
      ],
      "metadata": {
        "id": "ciC3UosBP39U"
      },
      "execution_count": null,
      "outputs": []
    },
    {
      "cell_type": "code",
      "source": [
        "titanic['none_string'][40:50] = np.nan"
      ],
      "metadata": {
        "id": "xaWs90RfP6Gf"
      },
      "execution_count": null,
      "outputs": []
    },
    {
      "cell_type": "code",
      "source": [
        "msno.matrix(titanic)"
      ],
      "metadata": {
        "id": "nvNCraghQG2I"
      },
      "execution_count": null,
      "outputs": []
    },
    {
      "cell_type": "code",
      "source": [
        "# 범주형 데이터의 경우 mean이나 median을 구할 수 없다.\n",
        "#imputer_none_string = SimpleImputer(strategy='median')\n",
        "#titanic['none_string'] = imputer_none_string.fit_transform(titanic[['none_string']]) # 평균을 구할 수 없기 때문에 오류남"
      ],
      "metadata": {
        "id": "AoFMHWe8QKmT"
      },
      "execution_count": null,
      "outputs": []
    },
    {
      "cell_type": "markdown",
      "source": [
        "## 데이터 프레임 다루기"
      ],
      "metadata": {
        "id": "pAd_R8afQelk"
      }
    },
    {
      "cell_type": "code",
      "source": [
        "from patsy import demo_data\n",
        "df = pd.DataFrame(demo_data('x1','x2','x3','x4','x5'))\n",
        "df"
      ],
      "metadata": {
        "id": "4kZIJDWPT63-"
      },
      "execution_count": null,
      "outputs": []
    },
    {
      "cell_type": "code",
      "source": [
        "from patsy import dmatrix\n",
        "dmatrix('x1 + 0', data=df)"
      ],
      "metadata": {
        "id": "f-8Z31tsUbrw"
      },
      "execution_count": null,
      "outputs": []
    },
    {
      "cell_type": "code",
      "source": [
        "dmatrix('x1 + x2 + x3 +0', data=df)"
      ],
      "metadata": {
        "id": "3x3YOoX-UfDJ"
      },
      "execution_count": null,
      "outputs": []
    },
    {
      "cell_type": "code",
      "source": [
        "dmatrix('x1 + x2 + x3', data=df)"
      ],
      "metadata": {
        "id": "4QAAoWnGV4zW"
      },
      "execution_count": null,
      "outputs": []
    },
    {
      "cell_type": "code",
      "source": [
        "dmatrix('x1 + np.log(np.abs(x2))', data=df)"
      ],
      "metadata": {
        "id": "tlnBemHtV7B9"
      },
      "execution_count": null,
      "outputs": []
    },
    {
      "cell_type": "code",
      "source": [
        "def five_times(x):\n",
        "  return 5*x\n",
        "\n",
        "dmatrix('five_times(x1)',data=df)"
      ],
      "metadata": {
        "id": "u_s5KoPJV9oR"
      },
      "execution_count": null,
      "outputs": []
    },
    {
      "cell_type": "code",
      "source": [
        "dmatrix('x1 + x2 + x1:x2 + 0', data=df)"
      ],
      "metadata": {
        "id": "YBCqnPMfV_4V"
      },
      "execution_count": null,
      "outputs": []
    },
    {
      "cell_type": "code",
      "source": [
        "dmatrix('x1 + x2 + x1*x2 + 0', data=df)"
      ],
      "metadata": {
        "id": "W2zG2F9NWmQc"
      },
      "execution_count": null,
      "outputs": []
    },
    {
      "cell_type": "code",
      "source": [
        "dmatrix('x1 + x2 + x3+x4 + 0', data=df)"
      ],
      "metadata": {
        "id": "S4XLKFMRWoQ8"
      },
      "execution_count": null,
      "outputs": []
    },
    {
      "cell_type": "code",
      "source": [
        "dmatrix('x1 + x2 + I(x1+x2)+0', data = df)"
      ],
      "metadata": {
        "id": "DYW9ZEG4XQkf"
      },
      "execution_count": null,
      "outputs": []
    },
    {
      "cell_type": "code",
      "source": [
        "dmatrix('center(x1)+0',data=df)"
      ],
      "metadata": {
        "id": "fCWliKYrXSP1"
      },
      "execution_count": null,
      "outputs": []
    },
    {
      "cell_type": "code",
      "source": [
        "'''\n",
        "center : 평균을 0으로 만들어 준다.\n",
        "standardize : 평균을 0으로 하고 표준편차를 1로 스케일\n",
        "'''\n",
        "dmatrix('x1 + standardize(x1)', data=df)"
      ],
      "metadata": {
        "id": "7qYxnIBFXUaA"
      },
      "execution_count": null,
      "outputs": []
    },
    {
      "cell_type": "code",
      "source": [
        "xs = dmatrix('standardize(x1)', data=df)"
      ],
      "metadata": {
        "id": "wMUZL8AvXjIK"
      },
      "execution_count": null,
      "outputs": []
    },
    {
      "cell_type": "code",
      "source": [
        "xs.design_info.factor_infos"
      ],
      "metadata": {
        "id": "cDsd2k5tYSWU"
      },
      "execution_count": null,
      "outputs": []
    },
    {
      "cell_type": "markdown",
      "source": [
        "sklearn을 통해 데이터를 표준화 및 정규화를 진행"
      ],
      "metadata": {
        "id": "LkE__IytYcer"
      }
    },
    {
      "cell_type": "code",
      "source": [
        "X = np.arange(7).reshape(-1, 1)\n",
        "X"
      ],
      "metadata": {
        "id": "ZSKDKHC5Yp4C"
      },
      "execution_count": null,
      "outputs": []
    },
    {
      "cell_type": "code",
      "source": [
        "from sklearn.preprocessing import StandardScaler\n",
        "scaler = StandardScaler()\n",
        "scaler.fit_transform(X)"
      ],
      "metadata": {
        "id": "U-Yh03OUYwke"
      },
      "execution_count": null,
      "outputs": []
    },
    {
      "cell_type": "code",
      "source": [
        "X2 = np.vstack([X,[[10000]]])\n",
        "X2"
      ],
      "metadata": {
        "id": "LQrslJJQZEH4"
      },
      "execution_count": null,
      "outputs": []
    },
    {
      "cell_type": "code",
      "source": [
        "scaler.fit_transform(X2)"
      ],
      "metadata": {
        "id": "PhZ5WbAsZTnD"
      },
      "execution_count": null,
      "outputs": []
    },
    {
      "cell_type": "code",
      "source": [
        "from sklearn.preprocessing import RobustScaler\n",
        "\n",
        "scaler = RobustScaler()\n",
        "scaler.fit_transform(X2)"
      ],
      "metadata": {
        "id": "JUJMAn0OZcIT"
      },
      "execution_count": null,
      "outputs": []
    },
    {
      "cell_type": "code",
      "source": [
        "from sklearn.preprocessing import PolynomialFeatures\n",
        "\n",
        "poly = PolynomialFeatures(degree=3, include_bias=False)\n",
        "poly.fit_transform(X)"
      ],
      "metadata": {
        "id": "R8CnocT-Z1E8"
      },
      "execution_count": null,
      "outputs": []
    },
    {
      "cell_type": "code",
      "source": [
        "from sklearn.preprocessing import FunctionTransformer\n",
        "\n",
        "X = 90*np.arange(9).reshape(-1, 1)\n",
        "X"
      ],
      "metadata": {
        "id": "DVfvp4-Qaq2x"
      },
      "execution_count": null,
      "outputs": []
    },
    {
      "cell_type": "code",
      "source": [
        "def sincos(X):\n",
        "  x0 = np.sin(X*np.pi/180)\n",
        "  x1 = np.cos(X*np.pi/180)\n",
        "  X_new = np.hstack([x0,x1])\n",
        "  return X_new\n",
        "\n",
        "X2 = FunctionTransformer(sincos).fit_transform(X)"
      ],
      "metadata": {
        "id": "9AT6Gn5abIHQ"
      },
      "execution_count": null,
      "outputs": []
    },
    {
      "cell_type": "code",
      "source": [
        "X2"
      ],
      "metadata": {
        "id": "KzimprnFbkIm"
      },
      "execution_count": null,
      "outputs": []
    },
    {
      "cell_type": "code",
      "source": [
        "plt.subplot(211)\n",
        "plt.plot(X)\n",
        "# plt.yticks(X.flatten())\n",
        "plt.title('Degree')\n",
        "plt.grid()\n",
        "plt.subplot(212)\n",
        "plt.plot(X2)\n",
        "plt.title('Sin Cos')\n",
        "plt.tight_layout()\n",
        "plt.grid()\n",
        "plt.show()"
      ],
      "metadata": {
        "id": "HaHuZxRnblJB"
      },
      "execution_count": null,
      "outputs": []
    },
    {
      "cell_type": "code",
      "source": [
        "X.flatten()"
      ],
      "metadata": {
        "id": "SO7_GIOldg4I"
      },
      "execution_count": null,
      "outputs": []
    }
  ]
}