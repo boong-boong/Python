{
  "nbformat": 4,
  "nbformat_minor": 0,
  "metadata": {
    "colab": {
      "private_outputs": true,
      "provenance": [],
      "authorship_tag": "ABX9TyM3mfnjoCArX+5cDI1biQY2",
      "include_colab_link": true
    },
    "kernelspec": {
      "name": "python3",
      "display_name": "Python 3"
    },
    "language_info": {
      "name": "python"
    }
  },
  "cells": [
    {
      "cell_type": "markdown",
      "metadata": {
        "id": "view-in-github",
        "colab_type": "text"
      },
      "source": [
        "<a href=\"https://colab.research.google.com/github/jh868/Python/blob/main/DataScience/day7_4(%EC%8B%A4%EC%8A%B5).ipynb\" target=\"_parent\"><img src=\"https://colab.research.google.com/assets/colab-badge.svg\" alt=\"Open In Colab\"/></a>"
      ]
    },
    {
      "cell_type": "code",
      "execution_count": null,
      "metadata": {
        "id": "b27vumTqYPMu"
      },
      "outputs": [],
      "source": [
        "%ls"
      ]
    },
    {
      "cell_type": "code",
      "source": [
        "import pandas as pd\n",
        "use_elec_pd = pd.read_csv('전력+사용량(용도별)_20221130161315.csv', header=[0, 1, 2, 3])"
      ],
      "metadata": {
        "id": "E28NOW45Yxpx"
      },
      "execution_count": null,
      "outputs": []
    },
    {
      "cell_type": "code",
      "source": [
        "use_elec_pd.head()"
      ],
      "metadata": {
        "id": "YHGAczrcZTE_"
      },
      "execution_count": null,
      "outputs": []
    },
    {
      "cell_type": "code",
      "source": [
        "use_elec_pd.columns"
      ],
      "metadata": {
        "id": "lyYjW00jeAQi"
      },
      "execution_count": null,
      "outputs": []
    },
    {
      "cell_type": "code",
      "source": [
        "columns = set([c[0] for idx, c in enumerate(use_elec_pd.columns) if idx >=3])\n",
        "columns"
      ],
      "metadata": {
        "id": "xTnmjqyFfEnK"
      },
      "execution_count": null,
      "outputs": []
    },
    {
      "cell_type": "code",
      "source": [
        "total_list = [use_elec_pd[i]['합계']['소계']['소계'][0] for i in columns]"
      ],
      "metadata": {
        "id": "hpkeNVSufd0p"
      },
      "execution_count": null,
      "outputs": []
    },
    {
      "cell_type": "code",
      "source": [
        "total_list"
      ],
      "metadata": {
        "id": "VxU40M9yfnd2"
      },
      "execution_count": null,
      "outputs": []
    },
    {
      "cell_type": "code",
      "source": [
        "from collections import defaultdict\n",
        "kind_elect = defaultdict(list)\n",
        "total = []\n",
        "index = []\n",
        "for date in columns:\n",
        "  index.append(date)\n",
        "  total.append(use_elec_pd[date]['합계']['소계']['소계'][0])\n",
        "  sec_columns = use_elec_pd[date]['합계'].columns\n",
        "  sec_columns = set([value[0] for idx,value in enumerate(sec_columns) if value!='소계'])\n",
        "  # print(sec_columns)\n",
        "  \n",
        "  for kind in sec_columns:\n",
        "    if kind != '소계':\n",
        "      kind_elect[kind].append(use_elec_pd[date]['합계'][kind]['소계'][0])"
      ],
      "metadata": {
        "id": "xmTGPlZffoyP"
      },
      "execution_count": null,
      "outputs": []
    },
    {
      "cell_type": "code",
      "source": [
        "index, total, kind_elect"
      ],
      "metadata": {
        "id": "RLkEQBFch8LI"
      },
      "execution_count": null,
      "outputs": []
    },
    {
      "cell_type": "code",
      "source": [
        "import matplotlib.pyplot as plt\n",
        "plt.plot(total, label='total')\n",
        "for key, value in kind_elect.items():\n",
        "  plt.plot(value, label=key)\n",
        "plt.legend()\n",
        "plt.show()"
      ],
      "metadata": {
        "id": "EwsLAlchh9n3"
      },
      "execution_count": null,
      "outputs": []
    },
    {
      "cell_type": "code",
      "source": [],
      "metadata": {
        "id": "EtKm8L2LjBMj"
      },
      "execution_count": null,
      "outputs": []
    }
  ]
}