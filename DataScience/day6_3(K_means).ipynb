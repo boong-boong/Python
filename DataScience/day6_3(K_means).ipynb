{
  "nbformat": 4,
  "nbformat_minor": 0,
  "metadata": {
    "colab": {
      "private_outputs": true,
      "provenance": [],
      "authorship_tag": "ABX9TyOubPxoF141Q0UD8tvEJWWl",
      "include_colab_link": true
    },
    "kernelspec": {
      "name": "python3",
      "display_name": "Python 3"
    },
    "language_info": {
      "name": "python"
    }
  },
  "cells": [
    {
      "cell_type": "markdown",
      "metadata": {
        "id": "view-in-github",
        "colab_type": "text"
      },
      "source": [
        "<a href=\"https://colab.research.google.com/github/jh868/Python/blob/main/DataScience/day6_3(K_means).ipynb\" target=\"_parent\"><img src=\"https://colab.research.google.com/assets/colab-badge.svg\" alt=\"Open In Colab\"/></a>"
      ]
    },
    {
      "cell_type": "code",
      "execution_count": null,
      "metadata": {
        "id": "Un6TJvtigeuv"
      },
      "outputs": [],
      "source": [
        "import pandas as pd\n",
        "purchase = pd.read_csv('purchase.csv')"
      ]
    },
    {
      "cell_type": "code",
      "source": [
        "purchase"
      ],
      "metadata": {
        "id": "5e2vjytxiRcg"
      },
      "execution_count": null,
      "outputs": []
    },
    {
      "cell_type": "code",
      "source": [
        "\n",
        "from sklearn.preprocessing import StandardScaler\n",
        "x = purchase[['Age','EstimatedSalary']]\n",
        "\n",
        "sc_purcahse = StandardScaler()\n",
        "x_sc = sc_purcahse.fit_transform(x)"
      ],
      "metadata": {
        "id": "FmmQn6XoiJ8K"
      },
      "execution_count": null,
      "outputs": []
    },
    {
      "cell_type": "code",
      "source": [
        "from sklearn.cluster import KMeans\n",
        "import matplotlib.pyplot as plt\n",
        "\n",
        "plt.figure(figsize=(12,12))\n",
        "\n",
        "for k in range(1,7):\n",
        "  km = KMeans(n_clusters=k)\n",
        "  km.fit(x_sc)\n",
        "  ids = km.predict(x_sc)\n",
        "\n",
        "  plt.subplot(3,2, k)\n",
        "  plt.tight_layout()\n",
        "\n",
        "  plt.title(f'k={k}')\n",
        "  plt.xlabel('age')\n",
        "  plt.ylabel('salary')\n",
        "\n",
        "  plt.scatter(x_sc[:,0], x_sc[:,1], c=ids)\n",
        "\n",
        "plt.show()\n"
      ],
      "metadata": {
        "id": "TiYMQIothBa4"
      },
      "execution_count": null,
      "outputs": []
    },
    {
      "cell_type": "code",
      "source": [
        "k=2\n",
        "km_2 = KMeans(n_clusters=k)\n",
        "km_2.fit(x_sc)\n",
        "\n",
        "km_df_2 = purchase.copy()\n",
        "ids = km_2.predict(x_sc)\n",
        "\n",
        "km_df_2['cluster'] = ids\n",
        "km_df_2.head()"
      ],
      "metadata": {
        "id": "PpIstEU3iWdZ"
      },
      "execution_count": null,
      "outputs": []
    },
    {
      "cell_type": "code",
      "source": [
        "km_df_2[km_df_2['Purchased'] != km_df_2['cluster']]"
      ],
      "metadata": {
        "id": "kZAz2hr3kD6n"
      },
      "execution_count": null,
      "outputs": []
    },
    {
      "cell_type": "code",
      "source": [
        "print(sum(km_df_2['Purchased'] != km_df_2['cluster'])/len(km_df_2))"
      ],
      "metadata": {
        "id": "VVuqAP6gkFmR"
      },
      "execution_count": null,
      "outputs": []
    },
    {
      "cell_type": "code",
      "source": [],
      "metadata": {
        "id": "i4opUAzokHW8"
      },
      "execution_count": null,
      "outputs": []
    }
  ]
}