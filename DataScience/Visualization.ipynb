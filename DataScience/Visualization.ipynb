{
  "nbformat": 4,
  "nbformat_minor": 0,
  "metadata": {
    "colab": {
      "private_outputs": true,
      "provenance": [],
      "authorship_tag": "ABX9TyOveYEF1bvFYXEjwFGN0wee",
      "include_colab_link": true
    },
    "kernelspec": {
      "name": "python3",
      "display_name": "Python 3"
    },
    "language_info": {
      "name": "python"
    }
  },
  "cells": [
    {
      "cell_type": "markdown",
      "metadata": {
        "id": "view-in-github",
        "colab_type": "text"
      },
      "source": [
        "<a href=\"https://colab.research.google.com/github/jh868/Python/blob/main/Visualization.ipynb\" target=\"_parent\"><img src=\"https://colab.research.google.com/assets/colab-badge.svg\" alt=\"Open In Colab\"/></a>"
      ]
    },
    {
      "cell_type": "code",
      "execution_count": null,
      "metadata": {
        "id": "lH7KNj1w1I3w"
      },
      "outputs": [],
      "source": [
        "!pip install koreanize-matplotlib"
      ]
    },
    {
      "cell_type": "code",
      "source": [
        "import koreanize_matplotlib\n",
        "import matplotlib.pyplot as plt"
      ],
      "metadata": {
        "id": "dtmKXRqB1_40"
      },
      "execution_count": null,
      "outputs": []
    },
    {
      "cell_type": "code",
      "source": [
        "plt.title('선 그래프')\n",
        "plt.plot([1,3,5,7], [1,9,25,49])\n",
        "plt.xlabel('x축')\n",
        "plt.ylabel('y축')\n",
        "plt.show()\n",
        "# 한글 폰트 미지원 외부에서 불러와야함(시스템 폰트 불러오거나 설치)"
      ],
      "metadata": {
        "id": "SWotn-AL1ZFH"
      },
      "execution_count": null,
      "outputs": []
    },
    {
      "cell_type": "code",
      "source": [
        "from matplotlib.colorbar import constrained_layout\n",
        "fig, axs = plt.subplots(2, 2, constrained_layout = True)\n",
        "# 겹침 방지(constrained_layout)\n",
        "\n",
        "style = ['solid', 'dashed', 'dotted', 'dashdot']\n",
        "x = [10,20, 30, 40]\n",
        "y = [1, 4, 9, 16]\n",
        "color = ['red', 'green', 'blue', 'black']\n",
        "\n",
        "for i in range(4):\n",
        "  axs[i//2, i%2].plot(x,y,color[i], linestyle=style[i], marker='.')\n",
        "  axs[i//2, i%2].set_title(f'{color[i]} {style[i]}')\n",
        "plt.show()"
      ],
      "metadata": {
        "id": "xSuWCrN11tLm"
      },
      "execution_count": null,
      "outputs": []
    },
    {
      "cell_type": "code",
      "source": [
        "import numpy as np\n",
        "t = np.arange(0.,5.,0.2)"
      ],
      "metadata": {
        "id": "sSKtbOu8-Gdn"
      },
      "execution_count": null,
      "outputs": []
    },
    {
      "cell_type": "code",
      "source": [
        "t"
      ],
      "metadata": {
        "id": "Eu34_NxL_m25"
      },
      "execution_count": null,
      "outputs": []
    },
    {
      "cell_type": "code",
      "source": [
        "for i in range(4):\n",
        "  plt.plot(t, (0.5*(i)*t**(i+1)), color[i], linestyle=style[i], label=str(i))\n",
        "plt.legend(loc=0)\n",
        "plt.show()"
      ],
      "metadata": {
        "id": "HT6xJgmf_rJ_"
      },
      "execution_count": null,
      "outputs": []
    },
    {
      "cell_type": "code",
      "source": [
        "t = np.arange(-10,10)\n",
        "plt.plot(t, t**3-3*t**2+20)"
      ],
      "metadata": {
        "id": "kx06IlnU__v4"
      },
      "execution_count": null,
      "outputs": []
    },
    {
      "cell_type": "markdown",
      "source": [
        "# 바차트"
      ],
      "metadata": {
        "id": "wWgQx9CcDcwe"
      }
    },
    {
      "cell_type": "code",
      "source": [
        "data = {'바나나':3, '사과':2, '오렌지':10}\n",
        "plt.bar(data.keys(), data.values()) \n",
        "plt.title('과일 개수') \n",
        "plt.xticks([0,1,2], data.keys()) \n",
        "plt.yticks(sorted(data.values())) \n",
        "plt.grid(True)\n",
        "plt.xlabel('과일') \n",
        "plt.ylabel('개수') \n",
        "plt.show()"
      ],
      "metadata": {
        "id": "AAxAZT4RBEvD"
      },
      "execution_count": null,
      "outputs": []
    },
    {
      "cell_type": "code",
      "source": [
        "data = {'바나나':3, '사과':2, '오렌지':10}\n",
        "plt.barh([0,1,2], data.values()) \n",
        "plt.title('과일 개수') \n",
        "plt.yticks([0,1,2], data.keys()) \n",
        "plt.xticks(sorted(data.values())) # x, y 변경\n",
        "plt.grid(True)\n",
        "plt.xlabel('과일') \n",
        "plt.ylabel('개수') \n",
        "plt.show()"
      ],
      "metadata": {
        "id": "9bmMJ9EiCUsp"
      },
      "execution_count": null,
      "outputs": []
    },
    {
      "cell_type": "markdown",
      "source": [
        "# 파이차트"
      ],
      "metadata": {
        "id": "E_vt4vDKDiAW"
      }
    },
    {
      "cell_type": "code",
      "source": [
        "ratio = [34, 32, 16, 18]\n",
        "labels = ['Apple', 'Banana', 'Melon', 'Graphs']\n",
        "explode = [0.05, 0.05, 0.05, 0.05]\n",
        "colors = ['silver', 'gold', 'whitesmoke', 'lightgray']\n",
        "\n",
        "# 파이차트 메서드 plt.pie\n",
        "plt.pie(ratio, labels=labels, autopct='%.1f%%', startangle=260, counterclock=False, explode=explode, shadow=True, colors=colors)\n",
        "plt.show()"
      ],
      "metadata": {
        "id": "tg0h6bzjDk3t"
      },
      "execution_count": null,
      "outputs": []
    },
    {
      "cell_type": "code",
      "source": [
        "# 부채꼴\n",
        "wedgeprops = {'width': 0.7, 'edgecolor': 'w', 'linewidth': 5}\n",
        "plt.pie(ratio, labels=labels, autopct='%.1f%%', startangle=260, counterclock=False, explode=explode, shadow=True, colors=colors, wedgeprops= wedgeprops)\n",
        "plt.show()\n",
        "# shadow 그림자, explode 각 구획 마다 떨어지게 그려줌"
      ],
      "metadata": {
        "id": "On6kjOJFE4Uj"
      },
      "execution_count": null,
      "outputs": []
    },
    {
      "cell_type": "markdown",
      "source": [
        "# 히스토그램"
      ],
      "metadata": {
        "id": "nCxMaWwrJbed"
      }
    },
    {
      "cell_type": "code",
      "source": [
        "heights = [168, 181, 164, 156, 178, 174, 161, 177, 166, 168, 159, 171, 180, 159, 167, 181, 169, 173, 169, 174, 170, 165]\n",
        "\n",
        "plt.hist(heights, bins=10, label = 'heights')\n",
        "plt.show()"
      ],
      "metadata": {
        "id": "U4YQj5SVJhhi"
      },
      "execution_count": null,
      "outputs": []
    },
    {
      "cell_type": "code",
      "source": [
        "plt.hist(heights, bins=10, label = 'heights', cumulative= True) # 누적\n",
        "plt.show()"
      ],
      "metadata": {
        "id": "6zKfEwrZJ6lM"
      },
      "execution_count": null,
      "outputs": []
    },
    {
      "cell_type": "code",
      "source": [
        "plt.hist(heights, bins=10, label = 'heights', density= True) # 밀도\n",
        "plt.show()"
      ],
      "metadata": {
        "id": "bKbJxUfEKnX7"
      },
      "execution_count": null,
      "outputs": []
    },
    {
      "cell_type": "code",
      "source": [
        "import numpy as np\n",
        "from scipy import stats\n",
        "\n",
        "# normal 정규분포생성\n",
        "data_a = np.random.normal(2.0, 2.0, 100)"
      ],
      "metadata": {
        "id": "-N6paY4pLMDk"
      },
      "execution_count": null,
      "outputs": []
    },
    {
      "cell_type": "code",
      "source": [
        "data_a"
      ],
      "metadata": {
        "id": "vPHt3dJ3L0cH"
      },
      "execution_count": null,
      "outputs": []
    },
    {
      "cell_type": "code",
      "source": [
        "plt.plot(data_a)\n",
        "plt.show()"
      ],
      "metadata": {
        "id": "moq-gWEIL2sB"
      },
      "execution_count": null,
      "outputs": []
    },
    {
      "cell_type": "code",
      "source": [
        "estimator = stats.gaussian_kde(data_a, bw_method='silverman')\n",
        "x = np.arange(-10, 10)\n",
        "K = estimator(x)\n",
        "plt.plot(x, K, label='gaussian_kde')\n",
        "plt.show()"
      ],
      "metadata": {
        "id": "3wNoWYeBME2D"
      },
      "execution_count": null,
      "outputs": []
    },
    {
      "cell_type": "markdown",
      "source": [
        "# Scatter plot"
      ],
      "metadata": {
        "id": "YXqXcX6qNR70"
      }
    },
    {
      "cell_type": "code",
      "source": [
        "n = 50\n",
        "np.random.seed(0)\n",
        "\n",
        "x = np.random.rand(n)\n",
        "y = np.random.rand(n)"
      ],
      "metadata": {
        "id": "X28w7nLhMcn3"
      },
      "execution_count": null,
      "outputs": []
    },
    {
      "cell_type": "code",
      "source": [
        "area = (30 * np.random.rand(n))**2\n",
        "colors = np.random.rand(n)\n",
        "labels = ['x','y']\n",
        "\n",
        "plt.scatter(x,y, c=colors, cmap='Spectral', s=area)\n",
        "plt.colorbar()\n",
        "plt.show()"
      ],
      "metadata": {
        "id": "_SM9aNQTNh4C"
      },
      "execution_count": null,
      "outputs": []
    },
    {
      "cell_type": "code",
      "source": [
        "plt.scatter(x,y,label=labels)\n",
        "plt.legend()\n",
        "plt.show()"
      ],
      "metadata": {
        "id": "gnkBKukJNpUk"
      },
      "execution_count": null,
      "outputs": []
    },
    {
      "cell_type": "markdown",
      "source": [
        "# 박스 그래프"
      ],
      "metadata": {
        "id": "SQZ0iJtPQ3Fu"
      }
    },
    {
      "cell_type": "code",
      "source": [
        "np.random.seed(0)\n",
        "\n",
        "plt.style.use('default')\n",
        "\n",
        "data_a = np.random.normal(0, 2.0, 1000)\n",
        "data_b = np.random.normal(-3.0, 1.5, 500)\n",
        "data_c = np.random.normal(1.2, 1.5, 1500)\n",
        "\n",
        "fig, ax = plt.subplots()\n",
        "\n",
        "# 박스 그래프: boxplot\n",
        "ax.boxplot([data_a, data_b, data_c], notch=True, whis=1.5, vert=True)\n",
        "ax.set_ylim(-10.0, 10.0)\n",
        "ax.set_xlabel('Data Type')\n",
        "ax.set_ylabel('Value')\n",
        "plt.show()"
      ],
      "metadata": {
        "id": "YCzzkLhONqgM"
      },
      "execution_count": null,
      "outputs": []
    },
    {
      "cell_type": "code",
      "source": [
        "# 가로 박스\n",
        "fig, ax = plt.subplots()\n",
        "ax.boxplot([data_a, data_b, data_c], notch=True, whis=1.5, vert=False)\n",
        "plt.show()"
      ],
      "metadata": {
        "id": "ZfKrrRWZYgZP"
      },
      "execution_count": null,
      "outputs": []
    },
    {
      "cell_type": "markdown",
      "source": [
        "# 바이올린 플롯(Violin Plot)"
      ],
      "metadata": {
        "id": "njSq_0aMbDST"
      }
    },
    {
      "cell_type": "code",
      "source": [
        "# 데이터 준비\n",
        "np.random.seed(0)\n",
        "data_a = np.random.normal(0, 2.0, 1000)\n",
        "data_b = np.random.normal(-3.0, 1.5, 500)\n",
        "data_c = np.random.normal(1.2, 1.5, 1500)\n",
        "\n",
        "# 바이올린\n",
        "violin = plt.violinplot([data_a, data_b, data_c], showmeans=True, showextrema=True, showmedians=True)\n",
        "\n",
        "plt.xticks(np.arange(1,4), labels=['A', 'B', 'C'])\n",
        "violin['bodies'][0].set_facecolor('red')\n",
        "violin['cbars'].set_edgecolor('black')\n",
        "violin['cmaxes'].set_edgecolor('orange')\n",
        "violin['cmins'].set_edgecolor('blue')\n",
        "violin['cmeans'].set_edgecolor('green')\n",
        "violin['cmedians'].set_edgecolor('violet')\n",
        "plt.show()"
      ],
      "metadata": {
        "id": "4NJC_Cj-ab_E"
      },
      "execution_count": null,
      "outputs": []
    },
    {
      "cell_type": "code",
      "source": [],
      "metadata": {
        "id": "wStB1bjcc1jv"
      },
      "execution_count": null,
      "outputs": []
    }
  ]
}
