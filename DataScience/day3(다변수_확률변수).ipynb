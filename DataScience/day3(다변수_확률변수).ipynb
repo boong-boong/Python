{
  "nbformat": 4,
  "nbformat_minor": 0,
  "metadata": {
    "colab": {
      "private_outputs": true,
      "provenance": [],
      "authorship_tag": "ABX9TyMCK+x90oexjyOcKyZm4J7F",
      "include_colab_link": true
    },
    "kernelspec": {
      "name": "python3",
      "display_name": "Python 3"
    },
    "language_info": {
      "name": "python"
    }
  },
  "cells": [
    {
      "cell_type": "markdown",
      "metadata": {
        "id": "view-in-github",
        "colab_type": "text"
      },
      "source": [
        "<a href=\"https://colab.research.google.com/github/jh868/Python/blob/main/DataScience/day3(%EB%8B%A4%EB%B3%80%EC%88%98_%ED%99%95%EB%A5%A0%EB%B3%80%EC%88%98).ipynb\" target=\"_parent\"><img src=\"https://colab.research.google.com/assets/colab-badge.svg\" alt=\"Open In Colab\"/></a>"
      ]
    },
    {
      "cell_type": "markdown",
      "source": [
        "## 다변수 확률변수\n",
        "- 변수가 여러개일 때 분포를 알아보고 연관된 분포 혹은 결과값들을 알아봅시다.\n",
        "- 변수가 여러개가 되면 확률분포가 결합되어 결합확률분포함수라고 합니다.\n",
        "- 두 개의 확률변수 값의 결합확률분포를 알고 있을 때 두 개 중에 하나의 확률분포를 알고 있으면 나머지 하나의 확률분포도 알 수 있다.\n"
      ],
      "metadata": {
        "id": "2t8jc0vU8UbE"
      }
    },
    {
      "cell_type": "markdown",
      "source": [
        "### 이산 데이터\n",
        "\n",
        "- X, Y의 확률질량함수\n",
        "      X확률질량함수 = px(x) \n",
        "      Y의 확률질량함수 = px(y)\n",
        "      결합 확률 질량함수 = pxy(x,y)"
      ],
      "metadata": {
        "id": "krofPnLU-L63"
      }
    },
    {
      "cell_type": "code",
      "source": [
        "!pip install koreanize-matplotlib"
      ],
      "metadata": {
        "id": "IsUYzv-dCtvn"
      },
      "execution_count": null,
      "outputs": []
    },
    {
      "cell_type": "code",
      "source": [
        "import pandas as pd\n",
        "import seaborn as sns\n",
        "import matplotlib.pyplot as plt\n",
        "import koreanize_matplotlib as mpl\n",
        "import numpy as np\n",
        "import scipy as sp"
      ],
      "metadata": {
        "id": "-xEct-ygBhup"
      },
      "execution_count": null,
      "outputs": []
    },
    {
      "cell_type": "code",
      "source": [
        "# 영어, 수학\n",
        "grades = ['A', 'B', 'C', 'D', 'E', 'F']\n",
        "scores = pd.DataFrame(\n",
        "    [\n",
        "        [1, 2, 1, 0, 0, 0],\n",
        "     [0, 2, 3, 1, 0, 0],\n",
        "     [0, 4, 7, 4, 1, 0],\n",
        "     [0, 1, 4, 5, 4, 0],\n",
        "     [0, 0, 1, 3, 2, 0],\n",
        "     [0, 0, 0, 1, 2, 1]\n",
        "    ],\n",
        "    columns = grades, index=grades\n",
        ")\n",
        "scores.index.name = '수학'\n",
        "scores.columns.name = '영어'\n",
        "scores"
      ],
      "metadata": {
        "id": "hREdoMu5_OH8"
      },
      "execution_count": null,
      "outputs": []
    },
    {
      "cell_type": "code",
      "source": [
        "scores.values.sum()"
      ],
      "metadata": {
        "id": "r-H22p_-Amsl"
      },
      "execution_count": null,
      "outputs": []
    },
    {
      "cell_type": "code",
      "source": [
        "scores/scores.values.sum() # 퍼센트"
      ],
      "metadata": {
        "id": "uXJTez6OA_8Q"
      },
      "execution_count": null,
      "outputs": []
    },
    {
      "cell_type": "code",
      "source": [
        "pmf = scores/scores.values.sum()\n",
        "sns.heatmap(pmf, annot=True, xticklabels=grades, yticklabels=grades)\n",
        "plt.title(\"결합확률질량함수 pxy(x,y)\")\n",
        "plt.tight_layout()\n",
        "plt.show()"
      ],
      "metadata": {
        "id": "aZkpBolYBGzS"
      },
      "execution_count": null,
      "outputs": []
    },
    {
      "cell_type": "markdown",
      "source": [
        "## 주변확률질량함수"
      ],
      "metadata": {
        "id": "DuZQAMwaCbje"
      }
    },
    {
      "cell_type": "markdown",
      "source": [
        "결합확률 질량함수에서 단변수 확률질량함수를 구하는 것\n",
        "\n",
        "$${px}(x) = \\Sigma {pxy}(x,{y_i})$$\n",
        "\n",
        "$${py}(y) = \\Sigma {pxy}({x_i},y)$$"
      ],
      "metadata": {
        "id": "37X0HU0kDftg"
      }
    },
    {
      "cell_type": "code",
      "source": [
        "# 확률질량함수, 영어에대한\n",
        "x_eng = pmf.sum()"
      ],
      "metadata": {
        "id": "PD1_iNHYD9G2"
      },
      "execution_count": null,
      "outputs": []
    },
    {
      "cell_type": "code",
      "source": [
        "y_math = pmf.sum(axis=1)[:,np.newaxis] # 차원 높임"
      ],
      "metadata": {
        "id": "wopZn3HkFpR5"
      },
      "execution_count": null,
      "outputs": []
    },
    {
      "cell_type": "code",
      "source": [
        "y_math"
      ],
      "metadata": {
        "id": "9aBxXbe2F4x2"
      },
      "execution_count": null,
      "outputs": []
    },
    {
      "cell_type": "markdown",
      "source": [
        "## 조건부확률질량함수\n",
        "X,Y 변수 중 하나의 변수가 특정 값으로 고정되는 경우 나머지 하나의 변수의 확률질량함수를 구하는것\n",
        "\n",
        "$$PX|Y(x|y)=\\frac{PXY(x,y)}{PY(y)}$$\n",
        "\n",
        "$$PY|X(y|x)=\\frac{PXY(x,y)}{PX(x)}$$"
      ],
      "metadata": {
        "id": "WEFSjv0lGSt-"
      }
    },
    {
      "cell_type": "code",
      "source": [
        "import string\n",
        "string.ascii_uppercase[:6]"
      ],
      "metadata": {
        "id": "MKmfoEeoQEJT"
      },
      "execution_count": null,
      "outputs": []
    },
    {
      "cell_type": "code",
      "source": [
        "grades = ['A','B','C','D','E','F']\n",
        "\n",
        "x = np.arange(6)\n",
        "for i, y in enumerate(grades):\n",
        "  ax = plt.subplot(6, 1, i+1)\n",
        "  ax.tick_params(labelleft=False)\n",
        "  plt.bar(x, pmf.iloc[i,:])\n",
        "  plt.ylabel(f'p(영어, 수학={y})', rotation=0, labelpad=40)\n",
        "  plt.ylim(0, 0.15)\n",
        "  plt.xticks(range(6), grades)\n",
        "\n",
        "plt.suptitle('수학이 특정 값일 경우 결합질량함수의 단면', y = 1.05)\n",
        "plt.tight_layout()\n",
        "plt.show()"
      ],
      "metadata": {
        "id": "K6eTAqjvQGG0"
      },
      "execution_count": null,
      "outputs": []
    },
    {
      "cell_type": "code",
      "source": [
        "grades = ['A','B','C','D','E','F']\n",
        "\n",
        "x = np.arange(6)\n",
        "for i, y in enumerate(grades):\n",
        "  ax = plt.subplot(6, 1, i+1)\n",
        "  ax.tick_params(labelleft=False)\n",
        "  plt.bar(x, pmf[y])\n",
        "  plt.ylabel(f'p(영어={y}, 수학)', rotation=0, labelpad=40)\n",
        "  plt.ylim(0, 0.15)\n",
        "  plt.xticks(range(6), grades)\n",
        "\n",
        "plt.suptitle('영어 특정 값일 경우 결합질량함수의 단면', y = 1.05)\n",
        "plt.tight_layout()\n",
        "plt.show()"
      ],
      "metadata": {
        "id": "eFZ0L1gdQIy9"
      },
      "execution_count": null,
      "outputs": []
    },
    {
      "cell_type": "markdown",
      "source": [
        "## 결합누적확률분포함수\n",
        "이산확률분포처럼 단순사건을 이용할 수 없음(A,B,C,D)   \n",
        "키, 몸무게, 속도, 시간, 온도   \n",
        "CDF -> 미분 -> PDF   \n",
        "결합누적확률분포함수 -> 미분 -> 결합확률밀도함수\n",
        "\n",
        "$${F_{XY}} = P({X<x, Y<y})$$\n",
        "\n",
        "- 특성\n",
        "$${F_{XY}}(-∞, ∞) = 1$$\n",
        "$${F_{XY}}(-∞, y) = {F_{XY}}(x, ∞) = 0$$"
      ],
      "metadata": {
        "id": "NOFdOA-KQLN0"
      }
    },
    {
      "cell_type": "markdown",
      "source": [
        "### 결합확률 밀도 함수\n",
        "결합누적확률분포함수를 미분해서 정의\n",
        "\n",
        "$${P_{XY}}(x,y)$$\n",
        "\n",
        "- 특성\n",
        "      적분하면 1\n",
        "$$ ∫∫{P_{XY}}(x,y)dxdy = 1 $$"
      ],
      "metadata": {
        "id": "f_n0uLYdQWJZ"
      }
    },
    {
      "cell_type": "code",
      "source": [
        "mu = [70, 170] # 몸무게, 키\n",
        "cov = [\n",
        "    [150, 140],\n",
        "    [140, 300]\n",
        "]\n",
        "'''\n",
        "공분산 행렬 : [\n",
        "  [분산, 공분산],\n",
        "  [공분산, 분산]]\n",
        "]\n",
        "'''\n",
        "\n",
        "rv = sp.stats.multivariate_normal(mu, cov)\n",
        "rv.mean"
      ],
      "metadata": {
        "id": "c-szn4SESauH"
      },
      "execution_count": null,
      "outputs": []
    },
    {
      "cell_type": "code",
      "source": [
        "x, y = np.linspace(20, 120, 100), np.linspace(100, 250, 100)"
      ],
      "metadata": {
        "id": "GCdkH-qmUcT9"
      },
      "execution_count": null,
      "outputs": []
    },
    {
      "cell_type": "code",
      "source": [
        "xm, ym = np.meshgrid(x,y)\n",
        "z = rv.pdf(np.dstack([xm,ym]))"
      ],
      "metadata": {
        "id": "aldWUsiMTFZk"
      },
      "execution_count": null,
      "outputs": []
    },
    {
      "cell_type": "code",
      "source": [
        "z"
      ],
      "metadata": {
        "id": "uyn7n45tUXOZ"
      },
      "execution_count": null,
      "outputs": []
    },
    {
      "cell_type": "code",
      "source": [
        "plt.contour(x,y,z)\n",
        "plt.xlabel('x')\n",
        "plt.ylabel('y')\n",
        "plt.title('결합확률밀도함수 P(x,y)')\n",
        "plt.show()"
      ],
      "metadata": {
        "id": "TmlVko2GUe2E"
      },
      "execution_count": null,
      "outputs": []
    },
    {
      "cell_type": "markdown",
      "source": [
        "### 주변확률밀도함수\n",
        "- 주변확률밀도 함수는 하나의 변수를 가중평균을 하고 나머지 하나의 변수에 대해서 확률밀도함수를 구하는 것   \n",
        "- 주변확률밀도함수는 결합확률 밀도 함수를 통해 단일변수의 확률밀도함수를 구하는 것\n",
        "\n",
        "$${P_X}(x) = ∫{P_{XY}}(x,y)dy$$\n",
        "$${P_Y}(y) = ∫{P_{XY}}(x,y)dx$$"
      ],
      "metadata": {
        "id": "rcwnFZrSVEcy"
      }
    },
    {
      "cell_type": "code",
      "source": [
        "from matplotlib.ticker import NullFormatter\n",
        "from matplotlib import transforms\n",
        "from scipy.integrate import simps\n",
        "\n",
        "mu = [70, 170] # 몸무게, 키\n",
        "cov = [\n",
        "    [150, 140],\n",
        "    [140, 300]\n",
        "]\n",
        "\n",
        "x = np.linspace(20, 120, 100)\n",
        "y = np.linspace(100, 250, 100)\n",
        "\n",
        "xm, ym = np.meshgrid(x, y)\n",
        "rv = sp.stats.multivariate_normal(mu, cov)\n",
        "z = rv.pdf(np.dstack([xm, ym]))"
      ],
      "metadata": {
        "id": "VyEvqssjaS1C"
      },
      "execution_count": null,
      "outputs": []
    },
    {
      "cell_type": "code",
      "source": [
        "fx = [simps(z1, y) for z1 in z.T]\n",
        "fy = [simps(z1, x) for z1 in z]\n",
        "\n",
        "left, width = 0.1, 0.65\n",
        "bottom, height = 0.1, 0.65\n",
        "bottom_h = left_h = left + width + 0.05\n",
        "\n",
        "rect1 = [left, bottom, width, height]\n",
        "rect2 = [left, bottom_h, width, 0.2]\n",
        "rect3 = [left_h, bottom, 0.2, height]\n",
        "\n",
        "ax1 = plt.axes(rect1)\n",
        "ax2 = plt.axes(rect2)\n",
        "ax3 = plt.axes(rect3)\n",
        "\n",
        "ax2.xaxis.set_major_formatter(NullFormatter())\n",
        "ax3.xaxis.set_major_formatter(NullFormatter())\n",
        "\n",
        "ax1.contour(xm, ym, z)\n",
        "ax1.set_title('결합확률분포 함수')\n",
        "ax1.set_xlabel('x')\n",
        "ax1.set_xlabel('y')\n",
        "\n",
        "ax2.plot(x, fx)\n",
        "ax2.set_title('주변확률밀도함수 x(몸무게)')\n",
        "\n",
        "base = ax3.transData\n",
        "rot = transforms.Affine2D().rotate_deg(-90)\n",
        "plt.plot(-y, fy, transform=rot+base)\n",
        "plt.title('주변확률밀도함수 y(키)')\n",
        "\n",
        "ax1.set_xlim(38, 102)\n",
        "ax2.set_xlim(38, 102)\n",
        "ax3.set_xlim(0, 0.025)\n",
        "\n",
        "ax1.set_ylim(120, 220)\n",
        "ax3.set_ylim(120, 220)\n",
        "\n",
        "plt.show()"
      ],
      "metadata": {
        "id": "ztIooBZ3if5d"
      },
      "execution_count": null,
      "outputs": []
    },
    {
      "cell_type": "markdown",
      "source": [
        "### 조건부 확률 밀도함수\n",
        "다 변수 확률 변수 중에 하나가 특정한 값일 경우 나머지 확률밀도함수를 조건부 확률 밀도함수\n",
        "\n",
        "$${P_{X|Y}}(x|y)=\\frac{P_{XY}(x,y)}{P_Y(y)}$$\n",
        "\n",
        "$${P_{Y|X}}(y|x)=\\frac{P_{XY}(x,y)}{P_X(x)}$$"
      ],
      "metadata": {
        "id": "4vNf34S9iiO2"
      }
    },
    {
      "cell_type": "code",
      "source": [
        "from matplotlib.collections import PolyCollection\n",
        "from matplotlib import colors as mcolors\n",
        "\n",
        "mu = [70, 170] # 몸무게, 키\n",
        "cov = [\n",
        "    [150, 140],\n",
        "    [140, 300]\n",
        "]\n",
        "\n",
        "x = np.linspace(20, 120, 100)\n",
        "y = np.linspace(100, 250, 5)\n",
        "\n",
        "xm, ym = np.meshgrid(x, y)\n",
        "rv = sp.stats.multivariate_normal(mu, cov)\n",
        "z = rv.pdf(np.dstack([xm, ym]))\n",
        "\n",
        "fig = plt.figure(dpi=150)\n",
        "ax = fig.gca(projection='3d')\n",
        "\n",
        "xs = np.hstack([0, x, 0])\n",
        "zs = np.zeros_like(xs)\n",
        "verts = []\n",
        "\n",
        "for i, y1 in enumerate(y):\n",
        "  zs[1:-1] = z[i]\n",
        "  verts.append(list(zip(x,zs)))\n",
        "\n",
        "poly = PolyCollection(verts)\n",
        "poly.set_alpha(0.5)\n",
        "ax.add_collection3d(poly, zs=y, zdir='y')\n",
        "\n",
        "ax.set_xlabel('x')\n",
        "ax.set_ylabel('y')\n",
        "ax.set_xlim(20,120)\n",
        "ax.set_ylim(100, 250)\n",
        "ax.set_zlim3d(0,0.0007)\n",
        "ax.view_init(50,-50)\n",
        "plt.title('결합확률밀도함수의 단면')\n",
        "plt.show()"
      ],
      "metadata": {
        "id": "tgZIYcAhioSX"
      },
      "execution_count": null,
      "outputs": []
    },
    {
      "cell_type": "code",
      "source": [
        "mu = [70, 170] # 몸무게, 키\n",
        "cov = [\n",
        "    [150, 140],\n",
        "    [140, 300]\n",
        "]\n",
        "\n",
        "n = 10\n",
        "x = np.linspace(20, 120, 100)\n",
        "y = np.linspace(100, 250, 16)\n",
        "\n",
        "xm, ym = np.meshgrid(x, y)\n",
        "rv = sp.stats.multivariate_normal(mu, cov)\n",
        "z = rv.pdf(np.dstack([xm, ym]))\n",
        "\n",
        "plt.figure(figsize=(8,6))\n",
        "\n",
        "for i, j in enumerate(range(5, 10)):\n",
        "  ax = plt.subplot(5, 1, i+1)\n",
        "  ax.tick_params(labelleft=False)\n",
        "  plt.plot(x, z[j,:] * 10, label='결합확률밀도함수의 단면')\n",
        "  density = simps(z[j,:], x)\n",
        "  plt.plot(x, z[j,:]/density, label='조건부확률밀도함수')\n",
        "  ax.xaxis.set_ticklabels([])\n",
        "  plt.ylabel(f'p(x, y={y[j]}', rotation = 0, labelpad=30)\n",
        "  if i == 0:\n",
        "    plt.legend(loc=2)\n",
        "  plt.xlabel('x')\n",
        "  plt.tight_layout()\n",
        "  plt.show()"
      ],
      "metadata": {
        "id": "PjBWGKFWio-F"
      },
      "execution_count": null,
      "outputs": []
    },
    {
      "cell_type": "markdown",
      "source": [
        "## 독립\n",
        "- 표본 값이 달라질 때 다른 확률 변수의 조건부 분포가 달라질 때 상관관계가 있다.\n",
        "- 두 확률변수가 상관관계 아니면 서로 독립\n",
        "\n",
        "$${P_{XY}}(x,y) = {P_X}(x){P_Y}(y)$$"
      ],
      "metadata": {
        "id": "4SWU17uI1nAX"
      }
    },
    {
      "cell_type": "markdown",
      "source": [
        "### 조건부 확률분포\n",
        "독립인 X,Y의 조건부 확률밀도함수는 주변확률밀도함수와 같다.\n",
        "\n",
        "$${P_{X|Y}}(x|y) = \\frac{{P_X}(x){P_Y}(y)}{P_Y(y)} = {P_X(x)}$$\n",
        "$${P_{Y|X}}(y|x) = \\frac{{P_X}(x){P_Y}(y)}{P_X(x)} = {P_Y(y)}$$"
      ],
      "metadata": {
        "id": "AcRYIIgC4puP"
      }
    },
    {
      "cell_type": "code",
      "source": [
        "pmf1 = np.array(\n",
        "    [\n",
        "     [1, 2, 4, 2, 1],\n",
        "     [2, 4, 8, 4, 2],\n",
        "     [4, 8, 16, 8, 4],\n",
        "     [2, 4, 8, 4, 2],\n",
        "     [1, 2, 4, 2, 1]\n",
        "    ]\n",
        ")\n",
        "pmf1 = pmf1/pmf1.sum()"
      ],
      "metadata": {
        "id": "mi9o40iy4sEc"
      },
      "execution_count": null,
      "outputs": []
    },
    {
      "cell_type": "code",
      "source": [
        "pmf1"
      ],
      "metadata": {
        "id": "4gEqWFPI47Hu"
      },
      "execution_count": null,
      "outputs": []
    },
    {
      "cell_type": "code",
      "source": [
        "pmf_x = pmf1.sum(axis=0)\n",
        "pmf_y = pmf1.sum(axis=1)"
      ],
      "metadata": {
        "id": "K6_kkWyi48LN"
      },
      "execution_count": null,
      "outputs": []
    },
    {
      "cell_type": "code",
      "source": [
        "pmf_x"
      ],
      "metadata": {
        "id": "wjVjZ1GO7iTk"
      },
      "execution_count": null,
      "outputs": []
    },
    {
      "cell_type": "code",
      "source": [
        "pmf_y"
      ],
      "metadata": {
        "id": "vkVD9XvQ7lKI"
      },
      "execution_count": null,
      "outputs": []
    },
    {
      "cell_type": "code",
      "source": [
        "pmf1x = pmf_x*pmf_y[:, np.newaxis]"
      ],
      "metadata": {
        "id": "dIGoNkgu7l91"
      },
      "execution_count": null,
      "outputs": []
    },
    {
      "cell_type": "code",
      "source": [
        "plt.subplot(121)\n",
        "sns.heatmap(pmf1, annot=True, square=True, cbar = False, xticklabels=pmf_x, yticklabels=pmf_y)\n",
        "plt.title('독립인 두 확률변수의 결합확률질량 함수')\n",
        "\n",
        "plt.subplot(122)\n",
        "sns.heatmap(pmf1x, annot=True, square=True, cbar = False, xticklabels=pmf_x, yticklabels=pmf_y)\n",
        "plt.title('독립인 두 변수의 주변확률질량함수의 곱')\n",
        "plt.tight_layout()\n",
        "plt.show()"
      ],
      "metadata": {
        "id": "avz0EgBg7pX7"
      },
      "execution_count": null,
      "outputs": []
    },
    {
      "cell_type": "code",
      "source": [
        "pmf1[0, :]/pmf_y[0]"
      ],
      "metadata": {
        "id": "x5jh1exT7sIZ"
      },
      "execution_count": null,
      "outputs": []
    },
    {
      "cell_type": "markdown",
      "source": [
        "상관관계가 있는 두 확률변수"
      ],
      "metadata": {
        "id": "lcFbkAdd7wH7"
      }
    },
    {
      "cell_type": "code",
      "source": [
        "pmf2 = np.array([\n",
        "    [0, 0, 0, 5, 5],\n",
        "    [0, 5, 5, 5, 5],\n",
        "    [0, 5, 30, 5, 0],\n",
        "    [5, 5, 5, 5, 0],\n",
        "    [5, 5, 0, 0, 0]\n",
        "])\n",
        "pmf2 = pmf2/pmf2.sum()\n",
        "\n",
        "pmf2_x = pmf2.sum(axis=0)\n",
        "pmf2_y = pmf2.sum(axis=1)\n",
        "pmf2x = pmf2_x * pmf2_y[:,np.newaxis]\n",
        "\n",
        "plt.subplot(121)\n",
        "sns.heatmap(pmf2, annot=True, square=True, cbar = False, xticklabels=pmf2_x.round(2), yticklabels=pmf2_y.round(2))\n",
        "plt.title('상관관계가 있는 확률변수의 결합확률질량 함수')\n",
        "\n",
        "plt.subplot(122)\n",
        "sns.heatmap(pmf2x, annot=True, square=True, cbar = False, xticklabels=pmf2_x.round(2), yticklabels=pmf2_y.round(2))\n",
        "plt.title('두 변수의 주변확률질량함수의 곱')\n",
        "plt.tight_layout()\n",
        "plt.show()"
      ],
      "metadata": {
        "id": "u4y1vN9L88cD"
      },
      "execution_count": null,
      "outputs": []
    },
    {
      "cell_type": "code",
      "source": [
        "for i in range(len(pmf1)):\n",
        "  print(pmf1[i, :]/pmf_y[i])"
      ],
      "metadata": {
        "id": "pwFKxDCYVwDE"
      },
      "execution_count": null,
      "outputs": []
    },
    {
      "cell_type": "code",
      "source": [
        "for i in range(len(pmf2)):\n",
        "  print(pmf2[i, :]/pmf2_y[i])"
      ],
      "metadata": {
        "id": "NnzGKsMrVyvV"
      },
      "execution_count": null,
      "outputs": []
    },
    {
      "cell_type": "code",
      "source": [],
      "metadata": {
        "id": "FrbEW2T_V0xz"
      },
      "execution_count": null,
      "outputs": []
    }
  ]
}