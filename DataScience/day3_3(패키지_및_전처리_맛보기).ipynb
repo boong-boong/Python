{
  "nbformat": 4,
  "nbformat_minor": 0,
  "metadata": {
    "colab": {
      "private_outputs": true,
      "provenance": [],
      "authorship_tag": "ABX9TyPBHkwDT3AF1oIFu5T8JffE",
      "include_colab_link": true
    },
    "kernelspec": {
      "name": "python3",
      "display_name": "Python 3"
    },
    "language_info": {
      "name": "python"
    }
  },
  "cells": [
    {
      "cell_type": "markdown",
      "metadata": {
        "id": "view-in-github",
        "colab_type": "text"
      },
      "source": [
        "<a href=\"https://colab.research.google.com/github/jh868/Python/blob/main/DataScience/day3_3(%ED%8C%A8%ED%82%A4%EC%A7%80_%EB%B0%8F_%EC%A0%84%EC%B2%98%EB%A6%AC_%EB%A7%9B%EB%B3%B4%EA%B8%B0).ipynb\" target=\"_parent\"><img src=\"https://colab.research.google.com/assets/colab-badge.svg\" alt=\"Open In Colab\"/></a>"
      ]
    },
    {
      "cell_type": "markdown",
      "source": [
        "## 패키지"
      ],
      "metadata": {
        "id": "BNTDxJm_qN68"
      }
    },
    {
      "cell_type": "code",
      "source": [
        "# 수치해석, 백터화 연산, 수학 기본 모든 연산\n",
        "import numpy as np\n",
        "\n",
        "# 함수, 미적분, 통계적인 전반적으로 모든 연산을 도와주는 패키지\n",
        "import scipy as sp\n",
        "\n",
        "# 데이터 프레임 클래스 (R 데이터 프레임 자료형) 머신러닝 데이터 분석이 필수\n",
        "import pandas as pd\n",
        "\n",
        "# Matlab 그 장점을 파이썬에 사용할 수 있게 만들주는 패키지\n",
        "import matplotlib as mpl\n",
        "import matplotlib.pyplot as plt\n",
        "\n",
        "# matplotlib에서 지원하지 않는 고급 시각화 고급차트\n",
        "import seaborn as sns\n",
        "\n",
        "# 회귀 분석, 선형 회귀, 시계열 분석 등등 분석 기능을 제공하는 패키지 \n",
        "import statsmodels.api as sm\n",
        "\n",
        "# 머신러닝, 지도학습, 비지도학습, 데이터셋 기능들을 제공하는 패키지\n",
        "import sklearn as sk\n",
        "\n",
        "# 데이터 전처리, 누락된 데이터를 찾고 시각화를 할 수 있는 패키지\n",
        "import missingno as msno\n",
        "\n",
        "# patsy 데이터 프레임을 다루는 기능 제공하는 패키지\n",
        "# statsmodels\n",
        "import patsy"
      ],
      "metadata": {
        "id": "MOFgVqr6qfhk"
      },
      "execution_count": null,
      "outputs": []
    },
    {
      "cell_type": "markdown",
      "source": [
        "## 전처리 맛보기"
      ],
      "metadata": {
        "id": "XFPMuE0twJ63"
      }
    },
    {
      "cell_type": "code",
      "source": [
        "%%writefile sample.csv\n",
        "x1,x2,x3,x4,x5\n",
        ",a,0.1,철수,2022-11-24\n",
        ",b,0.2,영희,\n",
        "3,c,0.3,,2022-11-26\n",
        "4,d,0.4,은희,2022-11-27\n",
        "5,,0.5,지우,2022-11-28\n",
        "6,f,0.6,이슬,2022-11-29"
      ],
      "metadata": {
        "id": "t9L5ZtQNwPpd"
      },
      "execution_count": null,
      "outputs": []
    },
    {
      "cell_type": "code",
      "source": [
        "import pandas as pd\n",
        "df = pd.read_csv('sample.csv')"
      ],
      "metadata": {
        "id": "rScyLYQCwQIs"
      },
      "execution_count": null,
      "outputs": []
    },
    {
      "cell_type": "code",
      "source": [
        "df"
      ],
      "metadata": {
        "id": "wLXg7EEAwYeo"
      },
      "execution_count": null,
      "outputs": []
    },
    {
      "cell_type": "code",
      "source": [
        "df.isnull()"
      ],
      "metadata": {
        "id": "iRRqRo4UwTQU"
      },
      "execution_count": null,
      "outputs": []
    },
    {
      "cell_type": "code",
      "source": [
        "df.isnull().sum()"
      ],
      "metadata": {
        "id": "cX8ZQxCSwVyx"
      },
      "execution_count": null,
      "outputs": []
    },
    {
      "cell_type": "code",
      "source": [
        "df.info()"
      ],
      "metadata": {
        "id": "pLE8t8RlwW2i"
      },
      "execution_count": null,
      "outputs": []
    },
    {
      "cell_type": "code",
      "source": [
        "# msno를 이용하여 결측치를 시각화\n",
        "msno.matrix(df)\n",
        "plt.show()"
      ],
      "metadata": {
        "id": "4jhg3_FbweeN"
      },
      "execution_count": null,
      "outputs": []
    },
    {
      "cell_type": "code",
      "source": [
        "# bar 형태로 시각화\n",
        "msno.bar(df)\n",
        "plt.show()"
      ],
      "metadata": {
        "id": "4NaPE0Q3wmd5"
      },
      "execution_count": null,
      "outputs": []
    },
    {
      "cell_type": "code",
      "source": [
        "titanic = sns.load_dataset('titanic')"
      ],
      "metadata": {
        "id": "Fpl1tqvyznZ_"
      },
      "execution_count": null,
      "outputs": []
    },
    {
      "cell_type": "code",
      "source": [
        "titanic.head()"
      ],
      "metadata": {
        "id": "8CVEtRE8zpdu"
      },
      "execution_count": null,
      "outputs": []
    },
    {
      "cell_type": "code",
      "source": [
        "titanic.info()"
      ],
      "metadata": {
        "id": "Sjyn6MEqzrCl"
      },
      "execution_count": null,
      "outputs": []
    },
    {
      "cell_type": "code",
      "source": [
        "msno.matrix(titanic)"
      ],
      "metadata": {
        "id": "t-OGHWDczsy0"
      },
      "execution_count": null,
      "outputs": []
    },
    {
      "cell_type": "code",
      "source": [
        "msno.bar(titanic)\n",
        "plt.show()"
      ],
      "metadata": {
        "id": "PVwP9yT0zvEh"
      },
      "execution_count": null,
      "outputs": []
    },
    {
      "cell_type": "code",
      "source": [
        "titanic.dropna().head()"
      ],
      "metadata": {
        "id": "Bwj4iOgUzx3p"
      },
      "execution_count": null,
      "outputs": []
    },
    {
      "cell_type": "code",
      "source": [
        "titanic.dropna(axis=1).head()"
      ],
      "metadata": {
        "id": "iHH62k9d0FHC"
      },
      "execution_count": null,
      "outputs": []
    },
    {
      "cell_type": "code",
      "source": [
        "titanic.dropna(thresh=10, axis=1).head()"
      ],
      "metadata": {
        "id": "d7pCfgx-0G8_"
      },
      "execution_count": null,
      "outputs": []
    },
    {
      "cell_type": "code",
      "source": [
        "from sklearn.impute import SimpleImputer # 결측치 채우기\n",
        "# mean 평균, median 중앙값, most_frequent 최빈값\n",
        "imputer = SimpleImputer(strategy='most_frequent')\n",
        "titanic = pd.DataFrame(imputer.fit_transform(titanic), columns=titanic.columns)\n",
        "titanic"
      ],
      "metadata": {
        "id": "lhD10s-A0LKg"
      },
      "execution_count": null,
      "outputs": []
    },
    {
      "cell_type": "code",
      "source": [
        "msno.matrix(titanic)\n",
        "plt.show()"
      ],
      "metadata": {
        "id": "ECi9Y6sm1sGq"
      },
      "execution_count": null,
      "outputs": []
    },
    {
      "cell_type": "code",
      "source": [],
      "metadata": {
        "id": "XXXKu1my14Ag"
      },
      "execution_count": null,
      "outputs": []
    }
  ]
}