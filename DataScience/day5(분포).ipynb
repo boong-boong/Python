{
  "nbformat": 4,
  "nbformat_minor": 0,
  "metadata": {
    "colab": {
      "private_outputs": true,
      "provenance": [],
      "authorship_tag": "ABX9TyNMIguBSJJDmd/WWzD9Lok6",
      "include_colab_link": true
    },
    "kernelspec": {
      "name": "python3",
      "display_name": "Python 3"
    },
    "language_info": {
      "name": "python"
    }
  },
  "cells": [
    {
      "cell_type": "markdown",
      "metadata": {
        "id": "view-in-github",
        "colab_type": "text"
      },
      "source": [
        "<a href=\"https://colab.research.google.com/github/jh868/Python/blob/main/DataScience/day5(%EB%B6%84%ED%8F%AC).ipynb\" target=\"_parent\"><img src=\"https://colab.research.google.com/assets/colab-badge.svg\" alt=\"Open In Colab\"/></a>"
      ]
    },
    {
      "cell_type": "markdown",
      "source": [
        "# 분포\n",
        "## 카테고리 분포"
      ],
      "metadata": {
        "id": "rmWujN3Pje_U"
      }
    },
    {
      "cell_type": "markdown",
      "source": [
        "베르누이 동전 0,1인 분포\n",
        "카테고리 확률분포는 주사위 0,1만을 가지는 변수가 아닌 변수들에 대한 확률분포\n",
        "\n",
        "x = {1,2,3,4,5,6}\n",
        "x = 1 -> {1,0,0,0,0,0}\n",
        "x = 2 -> {0,1,0,0,0,0}\n",
        "x = 3 -> {0,0,1,0,0,0}\n",
        "x = 4 -> {0,0,0,1,0,0}\n",
        "x = 5 -> {0,0,0,0,1,0}\n",
        "x = 6 -> {0,0,0,0,0,1}\n",
        "\n",
        "$$ \\Sigma{x_k} = 1$$\n",
        "카테고리 분포의 모수는 \n",
        "$$μ = ({μ_1}, ⋅ ⋅ ⋅, {\\mu_k}) $$\n",
        "$$0<=\\mu<=1$$\n",
        "$$\\Sigma{\\mu_k} = 1$$\n",
        "\n",
        "카테고리 확률 분포\n",
        "$$Cat({x_1}, {x_2}, ⋅ ⋅ ⋅, {x_k}, {\\mu_1}, ⋅ ⋅ ⋅, {\\mu_k})$$\n",
        "$$Cat(x:\\mu)$$\n",
        "\n",
        "$$ Cat(x:\\mu) = {\\mu_1}\\quad if\\quad x = (1,0,0,⋅ ⋅ ⋅,0) \\quad\n",
        "{\\mu_2}\\quad if\\quad x = (0,1,0,⋅ ⋅ ⋅,0) ⋅ ⋅ ⋅$$\n",
        "\n",
        "$$Cat(x:\\mu) = {\\mu_1^{x_1}}{\\mu_2^{x_3}}⋅⋅⋅{\\mu_k^{x_k}} = \\prod_{k=1}^K \\mu_k^{x_k}$$\n",
        "\n",
        "카테고리 분포의 기댓값\n",
        "$$E[{x_k}] = \\mu_k$$\n",
        "카테고리 분포의 분산\n",
        "$$Var[{x_k}] = \\mu_k(1-\\mu_k)$$"
      ],
      "metadata": {
        "id": "wAl93y8YjrnP"
      }
    },
    {
      "cell_type": "code",
      "source": [
        "!pip install koreanize-matplotlib\n",
        "import koreanize_matplotlib\n",
        "import warnings\n",
        "warnings.filterwarnings('ignore')"
      ],
      "metadata": {
        "id": "MLQfi2KQn3Rb"
      },
      "execution_count": null,
      "outputs": []
    },
    {
      "cell_type": "code",
      "source": [
        "import scipy as sp\n",
        "import scipy.stats\n",
        "mu = [0.1,0.1,0.1,0.1,0.3,0.3]\n",
        "rv = scipy.stats.multinomial(1, mu)"
      ],
      "metadata": {
        "id": "W1goTptspCj-"
      },
      "execution_count": null,
      "outputs": []
    },
    {
      "cell_type": "code",
      "source": [
        "import numpy as np\n",
        "import pandas as pd\n",
        "xx = np.arange(1, 7)\n",
        "xx\n"
      ],
      "metadata": {
        "id": "IaY5l-ogpMi0"
      },
      "execution_count": null,
      "outputs": []
    },
    {
      "cell_type": "code",
      "source": [
        "xx_ohe = pd.get_dummies(xx)\n",
        "xx_ohe"
      ],
      "metadata": {
        "id": "CcWJsvWXpM6_"
      },
      "execution_count": null,
      "outputs": []
    },
    {
      "cell_type": "code",
      "source": [
        "import matplotlib.pyplot as plt\n",
        "plt.bar(xx, rv.pmf(xx_ohe.values))\n",
        "plt.title('카테고리 분포 확률 질량 함수')\n",
        "plt.show()"
      ],
      "metadata": {
        "id": "eFA95vn8pPCn"
      },
      "execution_count": null,
      "outputs": []
    },
    {
      "cell_type": "code",
      "source": [
        "np.random.seed()\n",
        "X = rv.rvs(100)\n",
        "# X"
      ],
      "metadata": {
        "id": "qwrN_onopRCF"
      },
      "execution_count": null,
      "outputs": []
    },
    {
      "cell_type": "code",
      "source": [
        "y = X.sum(axis=0) / float(len(X))\n",
        "plt.bar(np.arange(1,7), y)\n",
        "plt.title('카테고리 분포 시뮬레이션 결과')\n",
        "plt.grid()\n",
        "plt.show()"
      ],
      "metadata": {
        "id": "2DeYmyQQpW_V"
      },
      "execution_count": null,
      "outputs": []
    },
    {
      "cell_type": "code",
      "source": [
        "df = pd.DataFrame({'이론': rv.pmf(xx_ohe.values), '시뮬레이션':y}, index= np.arange(1,7)).stack()"
      ],
      "metadata": {
        "id": "V4r_P_s_pwKA"
      },
      "execution_count": null,
      "outputs": []
    },
    {
      "cell_type": "code",
      "source": [
        "df = df.reset_index()\n",
        "df.columns = ['표본','유형','비율']\n",
        "df.pivot('표본','유형','비율')\n",
        "df"
      ],
      "metadata": {
        "id": "Ul_iIjTHqzVX"
      },
      "execution_count": null,
      "outputs": []
    },
    {
      "cell_type": "code",
      "source": [
        "import seaborn as sns\n",
        "sns.barplot(x='표본', y='비율', hue='유형', data=df)\n",
        "plt.title('카테고리 분포 시뮬레이션 결과')\n",
        "plt.grid()\n",
        "plt.show()"
      ],
      "metadata": {
        "id": "I4Ym0rrjq1Jn"
      },
      "execution_count": null,
      "outputs": []
    },
    {
      "cell_type": "markdown",
      "source": [
        "#### 실습\n",
        "μ = (0.2, 0.2, 0.15, 0.05, 0.2, 0.1, 0.1)   \n",
        "표본 10개, 1000개 비교"
      ],
      "metadata": {
        "id": "6bPRG_aarNcK"
      }
    },
    {
      "cell_type": "code",
      "source": [
        "mu2 = [0.2, 0.2, 0.15, 0.05, 0.2, 0.1, 0.1]\n",
        "rv2 = scipy.stats.multinomial(1, mu2)\n",
        "xx2 = np.arange(1, 8)\n",
        "xx2_ohe = pd.get_dummies(xx2)\n",
        "xx2_ohe"
      ],
      "metadata": {
        "id": "49yntN-lsen3"
      },
      "execution_count": null,
      "outputs": []
    },
    {
      "cell_type": "code",
      "source": [
        "plt.bar(xx2, rv2.pmf(xx2_ohe.values))\n",
        "plt.title('카테고리 분포 확률 질량 함수')\n",
        "plt.show()"
      ],
      "metadata": {
        "id": "FoSVWqAdssmI"
      },
      "execution_count": null,
      "outputs": []
    },
    {
      "cell_type": "code",
      "source": [
        "np.random.seed()\n",
        "X2 = rv2.rvs(1000)"
      ],
      "metadata": {
        "id": "I6zHgddys7uy"
      },
      "execution_count": null,
      "outputs": []
    },
    {
      "cell_type": "code",
      "source": [
        "y2 = X2.sum(axis=0) / float(len(X2))\n",
        "plt.bar(np.arange(1,8), y2)\n",
        "plt.title('카테고리 분포 시뮬레이션 결과')\n",
        "plt.grid()\n",
        "plt.show()"
      ],
      "metadata": {
        "id": "bXnf4zNwtrwN"
      },
      "execution_count": null,
      "outputs": []
    },
    {
      "cell_type": "code",
      "source": [
        "df2 = pd.DataFrame({'이론': rv2.pmf(xx2_ohe.values), '시뮬레이션':y2}, index= np.arange(1,8)).stack()"
      ],
      "metadata": {
        "id": "mgarOqF6t1GO"
      },
      "execution_count": null,
      "outputs": []
    },
    {
      "cell_type": "code",
      "source": [
        "df2 = df2.reset_index()\n",
        "df2.columns = ['표본','유형','비율']\n",
        "df2.pivot('표본','유형','비율')\n",
        "df2"
      ],
      "metadata": {
        "id": "Cpm-sNCwt9W1"
      },
      "execution_count": null,
      "outputs": []
    },
    {
      "cell_type": "code",
      "source": [
        "import seaborn as sns\n",
        "sns.barplot(x='표본', y='비율', hue='유형', data=df2)\n",
        "plt.title('카테고리 분포 시뮬레이션 결과')\n",
        "plt.grid()\n",
        "plt.show()"
      ],
      "metadata": {
        "id": "rl62fCjKuB5J"
      },
      "execution_count": null,
      "outputs": []
    },
    {
      "cell_type": "markdown",
      "source": [
        "## 다중 분류 문제"
      ],
      "metadata": {
        "id": "z974UybQuMIs"
      }
    },
    {
      "cell_type": "code",
      "source": [
        "from sklearn.datasets import load_iris\n",
        "\n",
        "iris = load_iris()\n",
        "df = pd.DataFrame(iris.data, columns=iris.feature_names)\n",
        "df['품종'] = pd.Series(iris.target, dtype='category')\n",
        "\n",
        "df1 = df[df['petal length (cm)']> 1.5]\n",
        "df2 = df[df['petal length (cm)']<= 1.5]\n",
        "\n",
        "fig, ax = plt.subplots(1,2)\n",
        "sns.countplot(x='품종', data=df1, ax=ax[0]).set_title('꽃잎 폭 1.5cm 초과')\n",
        "sns.countplot(x='품종', data=df2, ax=ax[1]).set_title('꽃잎 폭 1.5cm 이하')\n",
        "plt.tight_layout()\n",
        "plt.show()\n"
      ],
      "metadata": {
        "id": "ucWYpQ_3uSSn"
      },
      "execution_count": null,
      "outputs": []
    },
    {
      "cell_type": "markdown",
      "source": [
        "## 다항분포\n",
        "베르누이를 여러번 실험 -> 이항 분포   \n",
        "카테고리 확률 변수가 여러개 -> 다항분포   \n",
        "K개인 카테고리 확률변수의 표본을 N개 있을 때 각각의 카테고리k가 ${x_k}$번 나올 확률 분포\n",
        "\n",
        "- 다항 분포의 확률 질량 함수\n",
        "$$ Mu(x;N,μ) = \\binom N x \\prod_{k=1}^K{\\mu_k}^{x_k}$$\n",
        "\n",
        "- 기대값\n",
        "$$E[{x_k}]=N_{\\mu_k}$$\n",
        "\n",
        "- 분산\n",
        "$$Var[{x_k}] = {N_{μ_k}}(1-{\\mu_k})$$"
      ],
      "metadata": {
        "id": "ayHeBa2zuWI1"
      }
    },
    {
      "cell_type": "code",
      "source": [
        "N = 30\n",
        "mu = [0.1, 0.1, 0.1, 0.1, 0.3, 0.3]\n",
        "rv = scipy.stats.multinomial(N, mu)\n",
        "np.random.seed(0)\n",
        "X = rv.rvs(100)\n",
        "X[:5]"
      ],
      "metadata": {
        "id": "Y87sHRkm3whs"
      },
      "execution_count": null,
      "outputs": []
    },
    {
      "cell_type": "code",
      "source": [
        "df = pd.DataFrame(X).stack().reset_index()\n",
        "df.columns = ['N','클래스','표본']\n",
        "\n",
        "sns.violinplot(x='클래스',y='표본', data=df, inner = 'quartile')\n",
        "sns.swarmplot(x='클래스',y='표본', data=df, color=\".3\")\n",
        "plt.title('다항분포 시뮬')\n",
        "plt.show()"
      ],
      "metadata": {
        "id": "eBLN-gXe3y3t"
      },
      "execution_count": null,
      "outputs": []
    },
    {
      "cell_type": "code",
      "source": [
        "plt.boxplot(X)\n",
        "plt.title('다항분포 시뮬')\n",
        "plt.grid()\n",
        "plt.show()"
      ],
      "metadata": {
        "id": "yi9PQw0430hC"
      },
      "execution_count": null,
      "outputs": []
    },
    {
      "cell_type": "markdown",
      "source": [
        "## 베타 분포\n",
        "데이터의 분포를 표현하는 분포가 아닌 모수값 추정 시 신뢰도를 표현하는데 사용   \n",
        "모수 a,b   \n",
        "표본 공간 0~1 실수\n",
        "확률 밀도함수\n",
        "$$Beta(x;a,b)$$"
      ],
      "metadata": {
        "id": "Oum-zA7832H-"
      }
    },
    {
      "cell_type": "code",
      "source": [
        "xx = np.linspace(0,1, 1000)\n",
        "plt.subplot(221)\n",
        "plt.fill_between(xx, scipy.stats.beta(1,1).pdf(xx))\n",
        "plt.ylim(0,6)\n",
        "plt.title('(A) a = 1, b= 1')\n",
        "\n",
        "plt.subplot(222)\n",
        "plt.fill_between(xx, scipy.stats.beta(4,2).pdf(xx))\n",
        "plt.ylim(0,6)\n",
        "plt.title('(B) a = 4, b= 2')\n",
        "\n",
        "plt.subplot(223)\n",
        "plt.fill_between(xx, scipy.stats.beta(8,4).pdf(xx))\n",
        "plt.ylim(0,6)\n",
        "plt.title('(C) a = 8, b= 4')\n",
        "\n",
        "plt.subplot(224)\n",
        "plt.fill_between(xx, scipy.stats.beta(30,12).pdf(xx))\n",
        "plt.ylim(0,6)\n",
        "plt.title('(D) a = 30, b= 12')\n",
        "\n",
        "plt.tight_layout()\n",
        "plt.show()"
      ],
      "metadata": {
        "id": "Z9ylcDbZ35Pg"
      },
      "execution_count": null,
      "outputs": []
    },
    {
      "cell_type": "markdown",
      "source": [
        "- 기댓값\n",
        "$$E[x] = \\frac{a}{a+b}$$\n",
        "\n",
        "- 최빈값\n",
        "$$mode = \\frac{a-1}{a+b-2}$$\n",
        "\n",
        "- 분산\n",
        "$$Var[x] = \\frac{ab}{{(a+b)}^2(a+b+1)}$$"
      ],
      "metadata": {
        "id": "TTPl8g4Z4HFm"
      }
    },
    {
      "cell_type": "markdown",
      "source": [
        "## 감마분포\n",
        "베타분포와 달리 0 ~ 무한의 표본을 사용\n",
        "\n",
        "$$Gam(x;a,b)$$"
      ],
      "metadata": {
        "id": "PcHmsNBG8oaC"
      }
    },
    {
      "cell_type": "code",
      "source": [
        "xx = np.linspace(0,16,100)\n",
        "plt.subplot(221)\n",
        "plt.fill_between(xx, scipy.stats.gamma(8).pdf(xx))\n",
        "plt.ylim(0,0.4)\n",
        "plt.grid()\n",
        "plt.title(\"(A) a=9, b=1, 최빈값=7\")\n",
        "\n",
        "plt.subplot(222)\n",
        "plt.fill_between(xx, scipy.stats.gamma(6).pdf(xx))\n",
        "plt.ylim(0,0.4)\n",
        "plt.grid()\n",
        "plt.title(\"(B) a=6, b=1, 최빈값=5\")\n",
        "\n",
        "plt.subplot(223)\n",
        "plt.fill_between(xx, scipy.stats.gamma(3).pdf(xx))\n",
        "plt.ylim(0,0.4)\n",
        "plt.grid()\n",
        "plt.title(\"(C) a=3, b=1, 최빈값=2\")\n",
        "\n",
        "plt.subplot(224)\n",
        "plt.fill_between(xx, scipy.stats.gamma(2).pdf(xx))\n",
        "plt.ylim(0,0.4)\n",
        "plt.title(\"(D) a=2, b=1, 최빈값=1\")\n",
        "plt.tight_layout()\n",
        "plt.grid()\n",
        "plt.show()"
      ],
      "metadata": {
        "id": "WY_kd6x88rcl"
      },
      "execution_count": null,
      "outputs": []
    },
    {
      "cell_type": "markdown",
      "source": [
        "- 기대값\n",
        "$$E[X]=\\frac{a}{b}$$\n",
        "- 최빈값\n",
        "$$mode=\\frac{a-1}{b}$$\n",
        "- 분산\n",
        "$$Var[X]=\\frac{a}{b^2}$$"
      ],
      "metadata": {
        "id": "3A9VjIkd8teT"
      }
    },
    {
      "cell_type": "markdown",
      "source": [
        "## 디리클레 분포\n",
        "베타분포의 확장\n",
        "베타분포는 0 ~ 1을가지는 단일 확률변수에 대한 분포   \n",
        "디리클레분포는 0 ~ 1을가지는 다변수 확률 변수   \n",
        "모수 추정시 베이지안 모형에 사용   \n",
        "밀도 함수\n",
        "$$Dir(x;a)$$\n",
        "조건\n",
        "$$0<={x_i}<=1, \\Sigma_{i=1}^K{x_i}=1$$\n",
        "\n",
        "베타분포는 K=2인 디리클레 분포"
      ],
      "metadata": {
        "id": "CFMlLn-u8wSO"
      }
    }
  ]
}