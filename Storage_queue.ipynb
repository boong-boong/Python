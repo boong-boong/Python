{
  "nbformat": 4,
  "nbformat_minor": 0,
  "metadata": {
    "colab": {
      "private_outputs": true,
      "provenance": [],
      "authorship_tag": "ABX9TyMHzcdtDYEUz0r1ghN4tnnK",
      "include_colab_link": true
    },
    "kernelspec": {
      "name": "python3",
      "display_name": "Python 3"
    },
    "language_info": {
      "name": "python"
    }
  },
  "cells": [
    {
      "cell_type": "markdown",
      "metadata": {
        "id": "view-in-github",
        "colab_type": "text"
      },
      "source": [
        "<a href=\"https://colab.research.google.com/github/jh868/Python/blob/main/Storage_queue.ipynb\" target=\"_parent\"><img src=\"https://colab.research.google.com/assets/colab-badge.svg\" alt=\"Open In Colab\"/></a>"
      ]
    },
    {
      "cell_type": "code",
      "execution_count": null,
      "metadata": {
        "id": "dEoOMfJM4tLK"
      },
      "outputs": [],
      "source": [
        "!pip install azure-storage-queue==2.1.0"
      ]
    },
    {
      "cell_type": "code",
      "source": [
        "from azure.storage.queue import QueueService, QueueMessageFormat"
      ],
      "metadata": {
        "id": "TvRs0-F341Nb"
      },
      "execution_count": null,
      "outputs": []
    },
    {
      "cell_type": "code",
      "source": [
        "import os, uuid"
      ],
      "metadata": {
        "id": "oGIUlHjZ43ff"
      },
      "execution_count": null,
      "outputs": []
    },
    {
      "cell_type": "code",
      "source": [
        "# 큐 서비스 생성\n",
        "connect_str = 'DefaultEndpointsProtocol=https;AccountName=labuser58storage2;AccountKey=bvp6j2UgCFoWhNWq0cWO9pibfSlhHnNESvIvW0wYKYtWmHWjNsuZ2kTR1pEG49oAFkQCt6vr7fMW+AStAlfpyQ==;EndpointSuffix=core.windows.net'\n",
        "queue_name = 'queue-' + str(uuid.uuid4())\n",
        "\n",
        "print('Creating queue:' + queue_name)\n",
        "queue_service = QueueService(connection_string=connect_str) # 서비스 연결\n",
        "\n",
        "queue_service.create_queue(queue_name) # 큐 생성"
      ],
      "metadata": {
        "id": "RNFvw7rv44Dm"
      },
      "execution_count": null,
      "outputs": []
    },
    {
      "cell_type": "code",
      "source": [
        "# Setup Base64 encoding and decoding functions\n",
        "queue_service.encode_function = QueueMessageFormat.binary_base64encode\n",
        "queue_service.decode_function = QueueMessageFormat.binary_base64decode\n",
        "\n",
        "import base64\n",
        "message = \"Hello, World\"\n",
        "print(\"Adding message: \" + message)\n",
        "message = base64.b64encode(message.encode('utf-8'))\n",
        "queue_service.put_message(queue_name, message)"
      ],
      "metadata": {
        "id": "yl7g7ely4868"
      },
      "execution_count": null,
      "outputs": []
    },
    {
      "cell_type": "code",
      "source": [
        "messages = queue_service.peek_messages(queue_name)\n",
        "\n",
        "for peeked_message in messages:\n",
        "  message = base64.b64decode(peeked_message.content)\n",
        "  print(\"Peeked message: \" + message.decode('utf-8'))"
      ],
      "metadata": {
        "id": "73b4g0Bb4_Ip"
      },
      "execution_count": null,
      "outputs": []
    },
    {
      "cell_type": "code",
      "source": [
        "messages = queue_service.get_messages(queue_name)\n",
        "\n",
        "for msg in messages:\n",
        "  message = base64.b64decode(msg.content)\n",
        "  print('Message: ' + message.decode('utf-8'))"
      ],
      "metadata": {
        "id": "j8Kg53Zx5BYe"
      },
      "execution_count": null,
      "outputs": []
    },
    {
      "cell_type": "code",
      "source": [
        "print('Deleting queue: ' +  queue_name)\n",
        "queue_service.delete_queue(queue_name)"
      ],
      "metadata": {
        "id": "UhIps4ao5DZ9"
      },
      "execution_count": null,
      "outputs": []
    },
    {
      "cell_type": "code",
      "source": [],
      "metadata": {
        "id": "ndyUGoPV5rkr"
      },
      "execution_count": null,
      "outputs": []
    }
  ]
}